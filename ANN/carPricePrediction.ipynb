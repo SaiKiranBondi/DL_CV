{
 "cells": [
  {
   "cell_type": "markdown",
   "metadata": {},
   "source": [
    "### Machine Learning"
   ]
  },
  {
   "cell_type": "markdown",
   "metadata": {},
   "source": [
    "#### Task\n",
    "#### Data\n",
    "#### Modeling\n",
    "#### Error Measurement\n",
    "#### Training and Optimization\n",
    "#### Performance Measurement\n",
    "#### Validating and testing\n",
    "#### Corrective Measures"
   ]
  },
  {
   "cell_type": "code",
   "execution_count": 27,
   "metadata": {},
   "outputs": [],
   "source": [
    "#Kaggle Second hand cars\n",
    "import tensorflow as tf\n",
    "import pandas as pd\n",
    "import seaborn as sns\n",
    "from tensorflow import keras\n",
    "from keras.layers import Normalization,Dense,InputLayer\n",
    "from keras.losses import MeanSquaredError,Huber,MeanAbsoluteError\n",
    "from keras.metrics import RootMeanSquaredError\n",
    "from keras.optimizers import Adam\n",
    "import matplotlib.pyplot as plt "
   ]
  },
  {
   "cell_type": "code",
   "execution_count": 2,
   "metadata": {},
   "outputs": [
    {
     "data": {
      "text/html": [
       "<div>\n",
       "<style scoped>\n",
       "    .dataframe tbody tr th:only-of-type {\n",
       "        vertical-align: middle;\n",
       "    }\n",
       "\n",
       "    .dataframe tbody tr th {\n",
       "        vertical-align: top;\n",
       "    }\n",
       "\n",
       "    .dataframe thead th {\n",
       "        text-align: right;\n",
       "    }\n",
       "</style>\n",
       "<table border=\"1\" class=\"dataframe\">\n",
       "  <thead>\n",
       "    <tr style=\"text-align: right;\">\n",
       "      <th></th>\n",
       "      <th>v.id</th>\n",
       "      <th>on road old</th>\n",
       "      <th>on road now</th>\n",
       "      <th>years</th>\n",
       "      <th>km</th>\n",
       "      <th>rating</th>\n",
       "      <th>condition</th>\n",
       "      <th>economy</th>\n",
       "      <th>top speed</th>\n",
       "      <th>hp</th>\n",
       "      <th>torque</th>\n",
       "      <th>current price</th>\n",
       "    </tr>\n",
       "  </thead>\n",
       "  <tbody>\n",
       "    <tr>\n",
       "      <th>0</th>\n",
       "      <td>1</td>\n",
       "      <td>535651</td>\n",
       "      <td>798186</td>\n",
       "      <td>3</td>\n",
       "      <td>78945</td>\n",
       "      <td>1</td>\n",
       "      <td>2</td>\n",
       "      <td>14</td>\n",
       "      <td>177</td>\n",
       "      <td>73</td>\n",
       "      <td>123</td>\n",
       "      <td>351318.0</td>\n",
       "    </tr>\n",
       "    <tr>\n",
       "      <th>1</th>\n",
       "      <td>2</td>\n",
       "      <td>591911</td>\n",
       "      <td>861056</td>\n",
       "      <td>6</td>\n",
       "      <td>117220</td>\n",
       "      <td>5</td>\n",
       "      <td>9</td>\n",
       "      <td>9</td>\n",
       "      <td>148</td>\n",
       "      <td>74</td>\n",
       "      <td>95</td>\n",
       "      <td>285001.5</td>\n",
       "    </tr>\n",
       "    <tr>\n",
       "      <th>2</th>\n",
       "      <td>3</td>\n",
       "      <td>686990</td>\n",
       "      <td>770762</td>\n",
       "      <td>2</td>\n",
       "      <td>132538</td>\n",
       "      <td>2</td>\n",
       "      <td>8</td>\n",
       "      <td>15</td>\n",
       "      <td>181</td>\n",
       "      <td>53</td>\n",
       "      <td>97</td>\n",
       "      <td>215386.0</td>\n",
       "    </tr>\n",
       "    <tr>\n",
       "      <th>3</th>\n",
       "      <td>4</td>\n",
       "      <td>573999</td>\n",
       "      <td>722381</td>\n",
       "      <td>4</td>\n",
       "      <td>101065</td>\n",
       "      <td>4</td>\n",
       "      <td>3</td>\n",
       "      <td>11</td>\n",
       "      <td>197</td>\n",
       "      <td>54</td>\n",
       "      <td>116</td>\n",
       "      <td>244295.5</td>\n",
       "    </tr>\n",
       "    <tr>\n",
       "      <th>4</th>\n",
       "      <td>5</td>\n",
       "      <td>691388</td>\n",
       "      <td>811335</td>\n",
       "      <td>6</td>\n",
       "      <td>61559</td>\n",
       "      <td>3</td>\n",
       "      <td>9</td>\n",
       "      <td>12</td>\n",
       "      <td>160</td>\n",
       "      <td>53</td>\n",
       "      <td>105</td>\n",
       "      <td>531114.5</td>\n",
       "    </tr>\n",
       "  </tbody>\n",
       "</table>\n",
       "</div>"
      ],
      "text/plain": [
       "   v.id  on road old  on road now  years      km  rating  condition  economy  \\\n",
       "0     1       535651       798186      3   78945       1          2       14   \n",
       "1     2       591911       861056      6  117220       5          9        9   \n",
       "2     3       686990       770762      2  132538       2          8       15   \n",
       "3     4       573999       722381      4  101065       4          3       11   \n",
       "4     5       691388       811335      6   61559       3          9       12   \n",
       "\n",
       "   top speed  hp  torque  current price  \n",
       "0        177  73     123       351318.0  \n",
       "1        148  74      95       285001.5  \n",
       "2        181  53      97       215386.0  \n",
       "3        197  54     116       244295.5  \n",
       "4        160  53     105       531114.5  "
      ]
     },
     "execution_count": 2,
     "metadata": {},
     "output_type": "execute_result"
    }
   ],
   "source": [
    "data = pd.read_csv(\"carPricePrediction.csv\")\n",
    "data.head()"
   ]
  },
  {
   "cell_type": "code",
   "execution_count": 3,
   "metadata": {},
   "outputs": [
    {
     "data": {
      "text/plain": [
       "(1000, 12)"
      ]
     },
     "execution_count": 3,
     "metadata": {},
     "output_type": "execute_result"
    }
   ],
   "source": [
    "data.shape"
   ]
  },
  {
   "cell_type": "code",
   "execution_count": 4,
   "metadata": {},
   "outputs": [
    {
     "data": {
      "text/plain": [
       "['years',\n",
       " 'km',\n",
       " 'rating',\n",
       " 'condition',\n",
       " 'economy',\n",
       " 'top speed',\n",
       " 'hp',\n",
       " 'torque',\n",
       " 'current price']"
      ]
     },
     "execution_count": 4,
     "metadata": {},
     "output_type": "execute_result"
    }
   ],
   "source": [
    "col = data.columns.tolist()\n",
    "col = col[3:]\n",
    "col"
   ]
  },
  {
   "cell_type": "code",
   "execution_count": 5,
   "metadata": {},
   "outputs": [],
   "source": [
    "#sns.pairplot(data[col],diag_kind='kde')"
   ]
  },
  {
   "cell_type": "code",
   "execution_count": 6,
   "metadata": {},
   "outputs": [
    {
     "data": {
      "text/plain": [
       "<tf.Tensor: shape=(1000, 12), dtype=float32, numpy=\n",
       "array([[1.000000e+00, 5.356510e+05, 7.981860e+05, ..., 7.300000e+01,\n",
       "        1.230000e+02, 3.513180e+05],\n",
       "       [2.000000e+00, 5.919110e+05, 8.610560e+05, ..., 7.400000e+01,\n",
       "        9.500000e+01, 2.850015e+05],\n",
       "       [3.000000e+00, 6.869900e+05, 7.707620e+05, ..., 5.300000e+01,\n",
       "        9.700000e+01, 2.153860e+05],\n",
       "       ...,\n",
       "       [9.980000e+02, 6.463440e+05, 8.427330e+05, ..., 1.130000e+02,\n",
       "        8.900000e+01, 4.058710e+05],\n",
       "       [9.990000e+02, 5.355590e+05, 7.324390e+05, ..., 1.120000e+02,\n",
       "        1.280000e+02, 7.439800e+04],\n",
       "       [1.000000e+03, 5.901050e+05, 7.797430e+05, ..., 9.900000e+01,\n",
       "        9.600000e+01, 4.149385e+05]], dtype=float32)>"
      ]
     },
     "execution_count": 6,
     "metadata": {},
     "output_type": "execute_result"
    }
   ],
   "source": [
    "tensor_data = tf.constant(data,dtype = tf.float32)\n",
    "tensor_data"
   ]
  },
  {
   "cell_type": "code",
   "execution_count": 7,
   "metadata": {},
   "outputs": [
    {
     "data": {
      "text/plain": [
       "<tf.Tensor: shape=(1000, 12), dtype=float32, numpy=\n",
       "array([[3.540000e+02, 5.501990e+05, 8.875460e+05, ..., 7.700000e+01,\n",
       "        1.270000e+02, 2.358430e+05],\n",
       "       [9.320000e+02, 5.678220e+05, 7.101590e+05, ..., 1.190000e+02,\n",
       "        8.200000e+01, 7.727700e+04],\n",
       "       [6.210000e+02, 6.483400e+05, 8.021770e+05, ..., 1.120000e+02,\n",
       "        1.160000e+02, 3.890990e+05],\n",
       "       ...,\n",
       "       [1.310000e+02, 5.608750e+05, 8.761320e+05, ..., 1.010000e+02,\n",
       "        9.800000e+01, 2.563560e+05],\n",
       "       [5.080000e+02, 5.022810e+05, 7.593930e+05, ..., 1.130000e+02,\n",
       "        1.060000e+02, 3.771085e+05],\n",
       "       [3.430000e+02, 5.962360e+05, 8.401870e+05, ..., 6.500000e+01,\n",
       "        1.240000e+02, 3.443395e+05]], dtype=float32)>"
      ]
     },
     "execution_count": 7,
     "metadata": {},
     "output_type": "execute_result"
    }
   ],
   "source": [
    "#Shuffling to avoid any bias that may have occured while collecting the data\n",
    "tensor_data = tf.random.shuffle(tensor_data)\n",
    "tensor_data"
   ]
  },
  {
   "cell_type": "code",
   "execution_count": 8,
   "metadata": {},
   "outputs": [
    {
     "name": "stdout",
     "output_type": "stream",
     "text": [
      "tf.Tensor(\n",
      "[[5.00000e+00 1.20477e+05 2.00000e+00 ... 1.78000e+02 7.70000e+01\n",
      "  1.27000e+02]\n",
      " [6.00000e+00 1.39591e+05 3.00000e+00 ... 1.94000e+02 1.19000e+02\n",
      "  8.20000e+01]\n",
      " [5.00000e+00 9.12220e+04 4.00000e+00 ... 1.81000e+02 1.12000e+02\n",
      "  1.16000e+02]\n",
      " ...\n",
      " [2.00000e+00 1.15616e+05 1.00000e+00 ... 1.41000e+02 1.01000e+02\n",
      "  9.80000e+01]\n",
      " [7.00000e+00 6.19100e+04 5.00000e+00 ... 1.62000e+02 1.13000e+02\n",
      "  1.06000e+02]\n",
      " [4.00000e+00 9.43880e+04 2.00000e+00 ... 1.62000e+02 6.50000e+01\n",
      "  1.24000e+02]], shape=(1000, 8), dtype=float32)\n"
     ]
    }
   ],
   "source": [
    "X = tensor_data[:,3:-1]\n",
    "print(X)"
   ]
  },
  {
   "cell_type": "code",
   "execution_count": 9,
   "metadata": {},
   "outputs": [
    {
     "name": "stdout",
     "output_type": "stream",
     "text": [
      "tf.Tensor(\n",
      "[[235843. ]\n",
      " [ 77277. ]\n",
      " [389099. ]\n",
      " [423231.5]\n",
      " [351704.5]], shape=(5, 1), dtype=float32)\n"
     ]
    }
   ],
   "source": [
    "y = tensor_data[:,-1]\n",
    "y = tf.expand_dims(y,axis = -1)\n",
    "print(y[:5])"
   ]
  },
  {
   "cell_type": "code",
   "execution_count": 10,
   "metadata": {},
   "outputs": [],
   "source": [
    "train_ratio = 0.8\n",
    "test_ratio = 0.1\n",
    "val_ratio = 0.1\n",
    "data_size = len(X)"
   ]
  },
  {
   "cell_type": "code",
   "execution_count": 11,
   "metadata": {},
   "outputs": [],
   "source": [
    "X_train = X[:int(data_size*train_ratio)]\n",
    "y_train = y[:int(data_size*train_ratio)]"
   ]
  },
  {
   "cell_type": "code",
   "execution_count": 12,
   "metadata": {},
   "outputs": [],
   "source": [
    "X_val = X[int(data_size*train_ratio):int(data_size*(train_ratio+val_ratio))]\n",
    "y_val = y[int(data_size*train_ratio):int(data_size*(train_ratio+val_ratio))]"
   ]
  },
  {
   "cell_type": "code",
   "execution_count": 13,
   "metadata": {},
   "outputs": [],
   "source": [
    "X_test = X[int(data_size*(train_ratio+val_ratio)):]\n",
    "y_test = y[int(data_size*(train_ratio+val_ratio)):]"
   ]
  },
  {
   "cell_type": "code",
   "execution_count": 14,
   "metadata": {},
   "outputs": [],
   "source": [
    "#Normalizing data\n",
    "normalizer = Normalization(axis = -1)\n",
    "normalizer.adapt(X_train) #get mean,sd for each"
   ]
  },
  {
   "cell_type": "code",
   "execution_count": 15,
   "metadata": {},
   "outputs": [
    {
     "name": "stdout",
     "output_type": "stream",
     "text": [
      "Model: \"sequential\"\n",
      "_________________________________________________________________\n",
      " Layer (type)                Output Shape              Param #   \n",
      "=================================================================\n",
      " normalization (Normalizatio  (None, 8)                17        \n",
      " n)                                                              \n",
      "                                                                 \n",
      " dense (Dense)               (None, 1)                 9         \n",
      "                                                                 \n",
      "=================================================================\n",
      "Total params: 26\n",
      "Trainable params: 9\n",
      "Non-trainable params: 17\n",
      "_________________________________________________________________\n"
     ]
    }
   ],
   "source": [
    "\"\"\" model = keras.Sequential([\n",
    "    InputLayer(input_shape = (8,)),\n",
    "    normalizer,\n",
    "    Dense(1),\n",
    "])\n",
    "model.summary() \"\"\"\n",
    "model = keras.Sequential()\n",
    "model.add(normalizer)\n",
    "current_prices_needed = 1\n",
    "model.add(Dense(current_prices_needed))\n",
    "model.summary()"
   ]
  },
  {
   "cell_type": "code",
   "execution_count": 16,
   "metadata": {},
   "outputs": [
    {
     "data": {
      "image/png": "[encoded data removed]",
      "text/plain": [
       "<IPython.core.display.Image object>"
      ]
     },
     "execution_count": 16,
     "metadata": {},
     "output_type": "execute_result"
    }
   ],
   "source": [
    "keras.utils.plot_model(model,to_file=\"model.png\",show_shapes=True)"
   ]
  },
  {
   "cell_type": "markdown",
   "metadata": {},
   "source": [
    "### we pass batches to model->dividing input into different parts \n",
    "### commonly used 32,64"
   ]
  },
  {
   "cell_type": "markdown",
   "metadata": {},
   "source": [
    "## Error Measurement"
   ]
  },
  {
   "cell_type": "code",
   "execution_count": 17,
   "metadata": {},
   "outputs": [],
   "source": [
    "model.compile(\n",
    "    optimizer=Adam(learning_rate=1),\n",
    "    loss = MeanAbsoluteError(),\n",
    "    metrics=RootMeanSquaredError()\n",
    "    )\n",
    "#incase of outliers are present we cant use mean squared error we preferrably use MeanAbsoluteError()\n",
    "#Intelligent Erroring Huber Loss\n",
    "#Delta should be specified for Huber Loss"
   ]
  },
  {
   "cell_type": "markdown",
   "metadata": {},
   "source": [
    "## Training and Optimization"
   ]
  },
  {
   "cell_type": "code",
   "execution_count": 18,
   "metadata": {},
   "outputs": [],
   "source": [
    "history = model.fit(X_train,y_train,validation_data=(X_val,y_val),epochs = 100,verbose = 0)\n",
    "#verbose = 0 doesnt print epochs\n",
    "#epochs = no of times weights is updated"
   ]
  },
  {
   "cell_type": "code",
   "execution_count": 19,
   "metadata": {},
   "outputs": [
    {
     "data": {
      "text/plain": [
       "['loss', 'root_mean_squared_error', 'val_loss', 'val_root_mean_squared_error']"
      ]
     },
     "execution_count": 19,
     "metadata": {},
     "output_type": "execute_result"
    }
   ],
   "source": [
    "ls = list(history.history.keys())\n",
    "ls"
   ]
  },
  {
   "cell_type": "code",
   "execution_count": 20,
   "metadata": {},
   "outputs": [
    {
     "data": {
      "image/png": "[encoded data removed]",
      "text/plain": [
       "<Figure size 640x480 with 1 Axes>"
      ]
     },
     "metadata": {},
     "output_type": "display_data"
    }
   ],
   "source": [
    "for i in ls:\n",
    "    plt.plot(history.history[i])\n",
    "plt.title('Model loss')\n",
    "plt.ylabel('loss')\n",
    "plt.xlabel('epoch')\n",
    "plt.legend(ls)\n",
    "plt.show()"
   ]
  },
  {
   "cell_type": "markdown",
   "metadata": {},
   "source": [
    "### Performance Measurement"
   ]
  },
  {
   "cell_type": "code",
   "execution_count": 21,
   "metadata": {},
   "outputs": [
    {
     "name": "stdout",
     "output_type": "stream",
     "text": [
      "4/4 [==============================] - 0s 4ms/step - loss: 320848.3125 - root_mean_squared_error: 344700.5312\n",
      "[320848.3125, 344700.53125]\n",
      "100\n"
     ]
    }
   ],
   "source": [
    "print(model.evaluate(X_val,y_val))\n",
    "print(len(X_test))"
   ]
  },
  {
   "cell_type": "code",
   "execution_count": 22,
   "metadata": {},
   "outputs": [
    {
     "name": "stdout",
     "output_type": "stream",
     "text": [
      "4/4 [==============================] - 0s 4ms/step - loss: 290846.1875 - root_mean_squared_error: 316181.3750\n"
     ]
    },
    {
     "data": {
      "text/plain": [
       "[290846.1875, 316181.375]"
      ]
     },
     "execution_count": 22,
     "metadata": {},
     "output_type": "execute_result"
    }
   ],
   "source": [
    "#validaion set and test set\n",
    "model.evaluate(X_test,y_test)"
   ]
  },
  {
   "cell_type": "code",
   "execution_count": 23,
   "metadata": {},
   "outputs": [
    {
     "data": {
      "text/plain": [
       "TensorShape([100, 8])"
      ]
     },
     "execution_count": 23,
     "metadata": {},
     "output_type": "execute_result"
    }
   ],
   "source": [
    "X_test.shape"
   ]
  },
  {
   "cell_type": "code",
   "execution_count": 24,
   "metadata": {},
   "outputs": [
    {
     "name": "stdout",
     "output_type": "stream",
     "text": [
      "4/4 [==============================] - 0s 2ms/step\n"
     ]
    }
   ],
   "source": [
    "y_pred = model.predict(X_test)"
   ]
  },
  {
   "cell_type": "code",
   "execution_count": 25,
   "metadata": {},
   "outputs": [
    {
     "name": "stdout",
     "output_type": "stream",
     "text": [
      "1/1 [==============================] - 0s 23ms/step\n"
     ]
    },
    {
     "data": {
      "text/plain": [
       "array([[2497.658]], dtype=float32)"
      ]
     },
     "execution_count": 25,
     "metadata": {},
     "output_type": "execute_result"
    }
   ],
   "source": [
    "model.predict(tf.expand_dims(X_test[0],axis = 0))"
   ]
  },
  {
   "cell_type": "code",
   "execution_count": 26,
   "metadata": {},
   "outputs": [
    {
     "data": {
      "text/plain": [
       "<tf.Tensor: shape=(1,), dtype=float32, numpy=array([377507.], dtype=float32)>"
      ]
     },
     "execution_count": 26,
     "metadata": {},
     "output_type": "execute_result"
    }
   ],
   "source": [
    "y_test[0]"
   ]
  },
  {
   "cell_type": "markdown",
   "metadata": {},
   "source": [
    "### Underfitted model so very huge loss we use nn for this"
   ]
  }
 ],
 "metadata": {
  "kernelspec": {
   "display_name": "Python 3",
   "language": "python",
   "name": "python3"
  },
  "language_info": {
   "codemirror_mode": {
    "name": "ipython",
    "version": 3
   },
   "file_extension": ".py",
   "mimetype": "text/x-python",
   "name": "python",
   "nbconvert_exporter": "python",
   "pygments_lexer": "ipython3",
   "version": "3.10.12"
  },
  "orig_nbformat": 4
 },
 "nbformat": 4,
 "nbformat_minor": 2
}
