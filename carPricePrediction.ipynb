{
 "cells": [
  {
   "cell_type": "markdown",
   "metadata": {},
   "source": [
    "### Machine Learning"
   ]
  },
  {
   "cell_type": "markdown",
   "metadata": {},
   "source": [
    "#### Task\n",
    "#### Data\n",
    "#### Modeling\n",
    "#### Error Measurement\n",
    "#### Training and Optimization\n",
    "#### Performance Measurement\n",
    "#### Validating and testing\n",
    "#### Corrective Measures"
   ]
  },
  {
   "cell_type": "code",
   "execution_count": 199,
   "metadata": {},
   "outputs": [],
   "source": [
    "#Kaggle Second hand cars\n",
    "import tensorflow as tf\n",
    "import pandas as pd\n",
    "import seaborn as sns\n",
    "from tensorflow import keras\n",
    "from keras.layers import Normalization,Dense,InputLayer\n",
    "from keras.losses import MeanSquaredError,Huber,MeanAbsoluteError\n",
    "from keras.metrics import RootMeanSquaredError\n",
    "from keras.optimizers import Adam\n",
    "import matplotlib.pyplot as plt "
   ]
  },
  {
   "cell_type": "code",
   "execution_count": 200,
   "metadata": {},
   "outputs": [
    {
     "data": {
      "text/html": [
       "<div>\n",
       "<style scoped>\n",
       "    .dataframe tbody tr th:only-of-type {\n",
       "        vertical-align: middle;\n",
       "    }\n",
       "\n",
       "    .dataframe tbody tr th {\n",
       "        vertical-align: top;\n",
       "    }\n",
       "\n",
       "    .dataframe thead th {\n",
       "        text-align: right;\n",
       "    }\n",
       "</style>\n",
       "<table border=\"1\" class=\"dataframe\">\n",
       "  <thead>\n",
       "    <tr style=\"text-align: right;\">\n",
       "      <th></th>\n",
       "      <th>v.id</th>\n",
       "      <th>on road old</th>\n",
       "      <th>on road now</th>\n",
       "      <th>years</th>\n",
       "      <th>km</th>\n",
       "      <th>rating</th>\n",
       "      <th>condition</th>\n",
       "      <th>economy</th>\n",
       "      <th>top speed</th>\n",
       "      <th>hp</th>\n",
       "      <th>torque</th>\n",
       "      <th>current price</th>\n",
       "    </tr>\n",
       "  </thead>\n",
       "  <tbody>\n",
       "    <tr>\n",
       "      <th>0</th>\n",
       "      <td>1</td>\n",
       "      <td>535651</td>\n",
       "      <td>798186</td>\n",
       "      <td>3</td>\n",
       "      <td>78945</td>\n",
       "      <td>1</td>\n",
       "      <td>2</td>\n",
       "      <td>14</td>\n",
       "      <td>177</td>\n",
       "      <td>73</td>\n",
       "      <td>123</td>\n",
       "      <td>351318.0</td>\n",
       "    </tr>\n",
       "    <tr>\n",
       "      <th>1</th>\n",
       "      <td>2</td>\n",
       "      <td>591911</td>\n",
       "      <td>861056</td>\n",
       "      <td>6</td>\n",
       "      <td>117220</td>\n",
       "      <td>5</td>\n",
       "      <td>9</td>\n",
       "      <td>9</td>\n",
       "      <td>148</td>\n",
       "      <td>74</td>\n",
       "      <td>95</td>\n",
       "      <td>285001.5</td>\n",
       "    </tr>\n",
       "    <tr>\n",
       "      <th>2</th>\n",
       "      <td>3</td>\n",
       "      <td>686990</td>\n",
       "      <td>770762</td>\n",
       "      <td>2</td>\n",
       "      <td>132538</td>\n",
       "      <td>2</td>\n",
       "      <td>8</td>\n",
       "      <td>15</td>\n",
       "      <td>181</td>\n",
       "      <td>53</td>\n",
       "      <td>97</td>\n",
       "      <td>215386.0</td>\n",
       "    </tr>\n",
       "    <tr>\n",
       "      <th>3</th>\n",
       "      <td>4</td>\n",
       "      <td>573999</td>\n",
       "      <td>722381</td>\n",
       "      <td>4</td>\n",
       "      <td>101065</td>\n",
       "      <td>4</td>\n",
       "      <td>3</td>\n",
       "      <td>11</td>\n",
       "      <td>197</td>\n",
       "      <td>54</td>\n",
       "      <td>116</td>\n",
       "      <td>244295.5</td>\n",
       "    </tr>\n",
       "    <tr>\n",
       "      <th>4</th>\n",
       "      <td>5</td>\n",
       "      <td>691388</td>\n",
       "      <td>811335</td>\n",
       "      <td>6</td>\n",
       "      <td>61559</td>\n",
       "      <td>3</td>\n",
       "      <td>9</td>\n",
       "      <td>12</td>\n",
       "      <td>160</td>\n",
       "      <td>53</td>\n",
       "      <td>105</td>\n",
       "      <td>531114.5</td>\n",
       "    </tr>\n",
       "  </tbody>\n",
       "</table>\n",
       "</div>"
      ],
      "text/plain": [
       "   v.id  on road old  on road now  years      km  rating  condition  economy  \\\n",
       "0     1       535651       798186      3   78945       1          2       14   \n",
       "1     2       591911       861056      6  117220       5          9        9   \n",
       "2     3       686990       770762      2  132538       2          8       15   \n",
       "3     4       573999       722381      4  101065       4          3       11   \n",
       "4     5       691388       811335      6   61559       3          9       12   \n",
       "\n",
       "   top speed  hp  torque  current price  \n",
       "0        177  73     123       351318.0  \n",
       "1        148  74      95       285001.5  \n",
       "2        181  53      97       215386.0  \n",
       "3        197  54     116       244295.5  \n",
       "4        160  53     105       531114.5  "
      ]
     },
     "execution_count": 200,
     "metadata": {},
     "output_type": "execute_result"
    }
   ],
   "source": [
    "data = pd.read_csv(\"carPricePrediction.csv\")\n",
    "data.head()"
   ]
  },
  {
   "cell_type": "code",
   "execution_count": 201,
   "metadata": {},
   "outputs": [
    {
     "data": {
      "text/plain": [
       "(1000, 12)"
      ]
     },
     "execution_count": 201,
     "metadata": {},
     "output_type": "execute_result"
    }
   ],
   "source": [
    "data.shape"
   ]
  },
  {
   "cell_type": "code",
   "execution_count": 202,
   "metadata": {},
   "outputs": [
    {
     "data": {
      "text/plain": [
       "['years',\n",
       " 'km',\n",
       " 'rating',\n",
       " 'condition',\n",
       " 'economy',\n",
       " 'top speed',\n",
       " 'hp',\n",
       " 'torque',\n",
       " 'current price']"
      ]
     },
     "execution_count": 202,
     "metadata": {},
     "output_type": "execute_result"
    }
   ],
   "source": [
    "col = data.columns.tolist()\n",
    "col = col[3:]\n",
    "col"
   ]
  },
  {
   "cell_type": "code",
   "execution_count": 203,
   "metadata": {},
   "outputs": [],
   "source": [
    "#sns.pairplot(data[col],diag_kind='kde')"
   ]
  },
  {
   "cell_type": "code",
   "execution_count": 204,
   "metadata": {},
   "outputs": [
    {
     "data": {
      "text/plain": [
       "<tf.Tensor: shape=(1000, 12), dtype=float32, numpy=\n",
       "array([[1.000000e+00, 5.356510e+05, 7.981860e+05, ..., 7.300000e+01,\n",
       "        1.230000e+02, 3.513180e+05],\n",
       "       [2.000000e+00, 5.919110e+05, 8.610560e+05, ..., 7.400000e+01,\n",
       "        9.500000e+01, 2.850015e+05],\n",
       "       [3.000000e+00, 6.869900e+05, 7.707620e+05, ..., 5.300000e+01,\n",
       "        9.700000e+01, 2.153860e+05],\n",
       "       ...,\n",
       "       [9.980000e+02, 6.463440e+05, 8.427330e+05, ..., 1.130000e+02,\n",
       "        8.900000e+01, 4.058710e+05],\n",
       "       [9.990000e+02, 5.355590e+05, 7.324390e+05, ..., 1.120000e+02,\n",
       "        1.280000e+02, 7.439800e+04],\n",
       "       [1.000000e+03, 5.901050e+05, 7.797430e+05, ..., 9.900000e+01,\n",
       "        9.600000e+01, 4.149385e+05]], dtype=float32)>"
      ]
     },
     "execution_count": 204,
     "metadata": {},
     "output_type": "execute_result"
    }
   ],
   "source": [
    "tensor_data = tf.constant(data,dtype = tf.float32)\n",
    "tensor_data"
   ]
  },
  {
   "cell_type": "code",
   "execution_count": 205,
   "metadata": {},
   "outputs": [
    {
     "data": {
      "text/plain": [
       "<tf.Tensor: shape=(1000, 12), dtype=float32, numpy=\n",
       "array([[7.920000e+02, 5.570000e+05, 8.867340e+05, ..., 5.000000e+01,\n",
       "        1.220000e+02, 2.621265e+05],\n",
       "       [4.260000e+02, 5.581070e+05, 7.983530e+05, ..., 1.200000e+02,\n",
       "        9.300000e+01, 4.400445e+05],\n",
       "       [6.480000e+02, 6.002240e+05, 8.927850e+05, ..., 1.150000e+02,\n",
       "        8.900000e+01, 3.671220e+05],\n",
       "       ...,\n",
       "       [8.000000e+01, 5.764120e+05, 7.499280e+05, ..., 5.500000e+01,\n",
       "        1.400000e+02, 2.214125e+05],\n",
       "       [6.240000e+02, 6.731220e+05, 8.972380e+05, ..., 5.000000e+01,\n",
       "        9.500000e+01, 4.321595e+05],\n",
       "       [6.960000e+02, 6.471860e+05, 8.343250e+05, ..., 1.070000e+02,\n",
       "        1.250000e+02, 4.987120e+05]], dtype=float32)>"
      ]
     },
     "execution_count": 205,
     "metadata": {},
     "output_type": "execute_result"
    }
   ],
   "source": [
    "#Shuffling to avoid any bias that may have occured while collecting the data\n",
    "tensor_data = tf.random.shuffle(tensor_data)\n",
    "tensor_data"
   ]
  },
  {
   "cell_type": "code",
   "execution_count": 206,
   "metadata": {},
   "outputs": [
    {
     "name": "stdout",
     "output_type": "stream",
     "text": [
      "tf.Tensor(\n",
      "[[3.00000e+00 1.17072e+05 1.00000e+00 ... 1.62000e+02 5.00000e+01\n",
      "  1.22000e+02]\n",
      " [3.00000e+00 5.96190e+04 1.00000e+00 ... 1.42000e+02 1.20000e+02\n",
      "  9.30000e+01]\n",
      " [7.00000e+00 9.33350e+04 4.00000e+00 ... 2.00000e+02 1.15000e+02\n",
      "  8.90000e+01]\n",
      " ...\n",
      " [4.00000e+00 1.14468e+05 2.00000e+00 ... 1.37000e+02 5.50000e+01\n",
      "  1.40000e+02]\n",
      " [3.00000e+00 8.82780e+04 1.00000e+00 ... 1.48000e+02 5.00000e+01\n",
      "  9.50000e+01]\n",
      " [3.00000e+00 6.06660e+04 4.00000e+00 ... 1.46000e+02 1.07000e+02\n",
      "  1.25000e+02]], shape=(1000, 8), dtype=float32)\n"
     ]
    }
   ],
   "source": [
    "X = tensor_data[:,3:-1]\n",
    "print(X)"
   ]
  },
  {
   "cell_type": "code",
   "execution_count": 207,
   "metadata": {},
   "outputs": [
    {
     "name": "stdout",
     "output_type": "stream",
     "text": [
      "tf.Tensor(\n",
      "[[262126.5]\n",
      " [440044.5]\n",
      " [367122. ]\n",
      " [160150.5]\n",
      " [328863. ]], shape=(5, 1), dtype=float32)\n"
     ]
    }
   ],
   "source": [
    "y = tensor_data[:,-1]\n",
    "y = tf.expand_dims(y,axis = -1)\n",
    "print(y[:5])"
   ]
  },
  {
   "cell_type": "code",
   "execution_count": 208,
   "metadata": {},
   "outputs": [],
   "source": [
    "train_ratio = 0.8\n",
    "test_ratio = 0.1\n",
    "val_ratio = 0.1\n",
    "data_size = len(X)"
   ]
  },
  {
   "cell_type": "code",
   "execution_count": 209,
   "metadata": {},
   "outputs": [],
   "source": [
    "X_train = X[:int(data_size*train_ratio)]\n",
    "y_train = y[:int(data_size*train_ratio)]"
   ]
  },
  {
   "cell_type": "code",
   "execution_count": 210,
   "metadata": {},
   "outputs": [],
   "source": [
    "X_val = X[int(data_size*train_ratio):int(data_size*(train_ratio+val_ratio))]\n",
    "y_val = y[int(data_size*train_ratio):int(data_size*(train_ratio+val_ratio))]"
   ]
  },
  {
   "cell_type": "code",
   "execution_count": 211,
   "metadata": {},
   "outputs": [],
   "source": [
    "X_test = X[int(data_size*(train_ratio+val_ratio)):]\n",
    "y_test = y[int(data_size*(train_ratio+val_ratio)):]"
   ]
  },
  {
   "cell_type": "code",
   "execution_count": 212,
   "metadata": {},
   "outputs": [],
   "source": [
    "#Normalizing data\n",
    "normalizer = Normalization(axis = -1)\n",
    "normalizer.adapt(X_train) #get mean,sd for each"
   ]
  },
  {
   "cell_type": "code",
   "execution_count": 213,
   "metadata": {},
   "outputs": [
    {
     "name": "stdout",
     "output_type": "stream",
     "text": [
      "Model: \"sequential_9\"\n",
      "_________________________________________________________________\n",
      " Layer (type)                Output Shape              Param #   \n",
      "=================================================================\n",
      " normalization_7 (Normalizat  (None, 8)                17        \n",
      " ion)                                                            \n",
      "                                                                 \n",
      " dense_9 (Dense)             (None, 1)                 9         \n",
      "                                                                 \n",
      "=================================================================\n",
      "Total params: 26\n",
      "Trainable params: 9\n",
      "Non-trainable params: 17\n",
      "_________________________________________________________________\n"
     ]
    }
   ],
   "source": [
    "\"\"\" model = keras.Sequential([\n",
    "    InputLayer(input_shape = (8,)),\n",
    "    normalizer,\n",
    "    Dense(1),\n",
    "])\n",
    "model.summary() \"\"\"\n",
    "model = keras.Sequential()\n",
    "model.add(normalizer)\n",
    "current_prices_needed = 1\n",
    "model.add(Dense(current_prices_needed))\n",
    "model.summary()"
   ]
  },
  {
   "cell_type": "code",
   "execution_count": 214,
   "metadata": {},
   "outputs": [
    {
     "data": {
      "image/png": "[encoded data removed]",
      "text/plain": [
       "<IPython.core.display.Image object>"
      ]
     },
     "execution_count": 214,
     "metadata": {},
     "output_type": "execute_result"
    }
   ],
   "source": [
    "keras.utils.plot_model(model,to_file=\"model.png\",show_shapes=True)"
   ]
  },
  {
   "cell_type": "markdown",
   "metadata": {},
   "source": [
    "### we pass batches to model->dividing input into different parts \n",
    "### commonly used 32,64"
   ]
  },
  {
   "cell_type": "markdown",
   "metadata": {},
   "source": [
    "## Error Measurement"
   ]
  },
  {
   "cell_type": "code",
   "execution_count": 215,
   "metadata": {},
   "outputs": [],
   "source": [
    "model.compile(\n",
    "    optimizer=Adam(learning_rate=1),\n",
    "    loss = MeanAbsoluteError(),\n",
    "    metrics=RootMeanSquaredError()\n",
    "    )\n",
    "#incase of outliers are present we cant use mean squared error we preferrably use MeanAbsoluteError()\n",
    "#Intelligent Erroring Huber Loss\n",
    "#Delta should be specified for Huber Loss"
   ]
  },
  {
   "cell_type": "markdown",
   "metadata": {},
   "source": [
    "## Training and Optimization"
   ]
  },
  {
   "cell_type": "code",
   "execution_count": 216,
   "metadata": {},
   "outputs": [
    {
     "name": "stdout",
     "output_type": "stream",
     "text": [
      "Epoch 1/100\n"
     ]
    },
    {
     "name": "stdout",
     "output_type": "stream",
     "text": [
      "25/25 - 1s - loss: 308280.0938 - root_mean_squared_error: 333035.6875 - val_loss: 315912.5938 - val_root_mean_squared_error: 340038.0000 - 1s/epoch - 46ms/step\n",
      "Epoch 2/100\n",
      "25/25 - 0s - loss: 308254.7500 - root_mean_squared_error: 333012.0938 - val_loss: 315887.3750 - val_root_mean_squared_error: 340015.1562 - 167ms/epoch - 7ms/step\n",
      "Epoch 3/100\n",
      "25/25 - 0s - loss: 308229.8438 - root_mean_squared_error: 332989.5938 - val_loss: 315862.1250 - val_root_mean_squared_error: 339991.5312 - 281ms/epoch - 11ms/step\n",
      "Epoch 4/100\n",
      "25/25 - 0s - loss: 308204.9062 - root_mean_squared_error: 332965.9375 - val_loss: 315837.3750 - val_root_mean_squared_error: 339967.9375 - 309ms/epoch - 12ms/step\n",
      "Epoch 5/100\n",
      "25/25 - 0s - loss: 308179.8438 - root_mean_squared_error: 332942.5938 - val_loss: 315812.4062 - val_root_mean_squared_error: 339945.4062 - 200ms/epoch - 8ms/step\n",
      "Epoch 6/100\n",
      "25/25 - 0s - loss: 308154.6875 - root_mean_squared_error: 332919.5938 - val_loss: 315787.2188 - val_root_mean_squared_error: 339921.8125 - 122ms/epoch - 5ms/step\n",
      "Epoch 7/100\n",
      "25/25 - 0s - loss: 308129.9062 - root_mean_squared_error: 332897.1562 - val_loss: 315762.3125 - val_root_mean_squared_error: 339899.3125 - 160ms/epoch - 6ms/step\n",
      "Epoch 8/100\n",
      "25/25 - 0s - loss: 308104.7188 - root_mean_squared_error: 332874.0938 - val_loss: 315737.3125 - val_root_mean_squared_error: 339875.8438 - 134ms/epoch - 5ms/step\n",
      "Epoch 9/100\n",
      "25/25 - 0s - loss: 308079.7500 - root_mean_squared_error: 332850.3438 - val_loss: 315712.4062 - val_root_mean_squared_error: 339852.3438 - 183ms/epoch - 7ms/step\n",
      "Epoch 10/100\n",
      "25/25 - 0s - loss: 308054.6875 - root_mean_squared_error: 332827.0625 - val_loss: 315687.8438 - val_root_mean_squared_error: 339829.6250 - 255ms/epoch - 10ms/step\n",
      "Epoch 11/100\n",
      "25/25 - 0s - loss: 308029.8125 - root_mean_squared_error: 332804.2188 - val_loss: 315662.8750 - val_root_mean_squared_error: 339806.7812 - 126ms/epoch - 5ms/step\n",
      "Epoch 12/100\n",
      "25/25 - 0s - loss: 308004.7500 - root_mean_squared_error: 332781.2188 - val_loss: 315637.3125 - val_root_mean_squared_error: 339783.0625 - 137ms/epoch - 5ms/step\n",
      "Epoch 13/100\n",
      "25/25 - 0s - loss: 307979.7812 - root_mean_squared_error: 332757.9062 - val_loss: 315612.1250 - val_root_mean_squared_error: 339759.0938 - 130ms/epoch - 5ms/step\n",
      "Epoch 14/100\n",
      "25/25 - 0s - loss: 307954.8750 - root_mean_squared_error: 332734.8750 - val_loss: 315586.9062 - val_root_mean_squared_error: 339735.5938 - 123ms/epoch - 5ms/step\n",
      "Epoch 15/100\n",
      "25/25 - 0s - loss: 307929.7812 - root_mean_squared_error: 332711.7188 - val_loss: 315562.1875 - val_root_mean_squared_error: 339712.7500 - 101ms/epoch - 4ms/step\n",
      "Epoch 16/100\n",
      "25/25 - 0s - loss: 307904.8438 - root_mean_squared_error: 332688.3125 - val_loss: 315537.2188 - val_root_mean_squared_error: 339689.4375 - 88ms/epoch - 4ms/step\n",
      "Epoch 17/100\n",
      "25/25 - 0s - loss: 307879.7500 - root_mean_squared_error: 332665.0938 - val_loss: 315511.9062 - val_root_mean_squared_error: 339666.0312 - 86ms/epoch - 3ms/step\n",
      "Epoch 18/100\n",
      "25/25 - 0s - loss: 307854.9062 - root_mean_squared_error: 332642.0312 - val_loss: 315486.9375 - val_root_mean_squared_error: 339642.8438 - 87ms/epoch - 3ms/step\n",
      "Epoch 19/100\n",
      "25/25 - 0s - loss: 307829.9062 - root_mean_squared_error: 332618.7188 - val_loss: 315461.8125 - val_root_mean_squared_error: 339619.0625 - 92ms/epoch - 4ms/step\n",
      "Epoch 20/100\n",
      "25/25 - 0s - loss: 307804.7812 - root_mean_squared_error: 332595.8750 - val_loss: 315437.3750 - val_root_mean_squared_error: 339597.3125 - 80ms/epoch - 3ms/step\n",
      "Epoch 21/100\n",
      "25/25 - 0s - loss: 307779.7500 - root_mean_squared_error: 332572.8438 - val_loss: 315412.2188 - val_root_mean_squared_error: 339573.7500 - 81ms/epoch - 3ms/step\n",
      "Epoch 22/100\n",
      "25/25 - 0s - loss: 307754.8125 - root_mean_squared_error: 332549.7812 - val_loss: 315386.8438 - val_root_mean_squared_error: 339549.7500 - 86ms/epoch - 3ms/step\n",
      "Epoch 23/100\n",
      "25/25 - 0s - loss: 307729.7500 - root_mean_squared_error: 332525.9688 - val_loss: 315362.3750 - val_root_mean_squared_error: 339526.8125 - 99ms/epoch - 4ms/step\n",
      "Epoch 24/100\n",
      "25/25 - 0s - loss: 307704.8750 - root_mean_squared_error: 332503.0938 - val_loss: 315337.1562 - val_root_mean_squared_error: 339503.4688 - 122ms/epoch - 5ms/step\n",
      "Epoch 25/100\n",
      "25/25 - 0s - loss: 307679.7500 - root_mean_squared_error: 332480.1562 - val_loss: 315312.1875 - val_root_mean_squared_error: 339480.5938 - 127ms/epoch - 5ms/step\n",
      "Epoch 26/100\n",
      "25/25 - 0s - loss: 307654.7188 - root_mean_squared_error: 332457.2188 - val_loss: 315287.4688 - val_root_mean_squared_error: 339458.2812 - 134ms/epoch - 5ms/step\n",
      "Epoch 27/100\n",
      "25/25 - 0s - loss: 307629.8438 - root_mean_squared_error: 332434.7812 - val_loss: 315262.3750 - val_root_mean_squared_error: 339435.7812 - 172ms/epoch - 7ms/step\n",
      "Epoch 28/100\n",
      "25/25 - 0s - loss: 307604.7188 - root_mean_squared_error: 332411.4688 - val_loss: 315237.2812 - val_root_mean_squared_error: 339411.7500 - 157ms/epoch - 6ms/step\n",
      "Epoch 29/100\n",
      "25/25 - 0s - loss: 307579.7812 - root_mean_squared_error: 332387.8125 - val_loss: 315212.3125 - val_root_mean_squared_error: 339388.2500 - 142ms/epoch - 6ms/step\n",
      "Epoch 30/100\n",
      "25/25 - 0s - loss: 307554.7500 - root_mean_squared_error: 332364.6250 - val_loss: 315187.7500 - val_root_mean_squared_error: 339365.5312 - 190ms/epoch - 8ms/step\n",
      "Epoch 31/100\n",
      "25/25 - 0s - loss: 307529.6250 - root_mean_squared_error: 332341.3438 - val_loss: 315162.8125 - val_root_mean_squared_error: 339342.1250 - 221ms/epoch - 9ms/step\n",
      "Epoch 32/100\n",
      "25/25 - 0s - loss: 307504.8750 - root_mean_squared_error: 332318.6562 - val_loss: 315137.5938 - val_root_mean_squared_error: 339318.6875 - 178ms/epoch - 7ms/step\n",
      "Epoch 33/100\n",
      "25/25 - 0s - loss: 307479.7500 - root_mean_squared_error: 332295.0938 - val_loss: 315112.3125 - val_root_mean_squared_error: 339294.3438 - 207ms/epoch - 8ms/step\n",
      "Epoch 34/100\n",
      "25/25 - 0s - loss: 307454.7500 - root_mean_squared_error: 332271.4062 - val_loss: 315087.4062 - val_root_mean_squared_error: 339270.9688 - 144ms/epoch - 6ms/step\n",
      "Epoch 35/100\n",
      "25/25 - 0s - loss: 307429.7500 - root_mean_squared_error: 332248.5000 - val_loss: 315061.8750 - val_root_mean_squared_error: 339248.2812 - 120ms/epoch - 5ms/step\n",
      "Epoch 36/100\n",
      "25/25 - 0s - loss: 307404.8125 - root_mean_squared_error: 332225.7812 - val_loss: 315037.3750 - val_root_mean_squared_error: 339225.7500 - 144ms/epoch - 6ms/step\n",
      "Epoch 37/100\n",
      "25/25 - 0s - loss: 307379.9062 - root_mean_squared_error: 332203.0312 - val_loss: 315012.8750 - val_root_mean_squared_error: 339203.2188 - 177ms/epoch - 7ms/step\n",
      "Epoch 38/100\n",
      "25/25 - 0s - loss: 307354.8750 - root_mean_squared_error: 332179.4375 - val_loss: 314986.7812 - val_root_mean_squared_error: 339177.5000 - 124ms/epoch - 5ms/step\n",
      "Epoch 39/100\n",
      "25/25 - 0s - loss: 307329.9062 - root_mean_squared_error: 332156.0938 - val_loss: 314962.6250 - val_root_mean_squared_error: 339156.3125 - 107ms/epoch - 4ms/step\n",
      "Epoch 40/100\n",
      "25/25 - 0s - loss: 307304.8125 - root_mean_squared_error: 332133.0938 - val_loss: 314936.7812 - val_root_mean_squared_error: 339131.7812 - 131ms/epoch - 5ms/step\n",
      "Epoch 41/100\n",
      "25/25 - 0s - loss: 307279.7500 - root_mean_squared_error: 332109.6875 - val_loss: 314911.7500 - val_root_mean_squared_error: 339108.4688 - 134ms/epoch - 5ms/step\n",
      "Epoch 42/100\n",
      "25/25 - 0s - loss: 307254.8750 - root_mean_squared_error: 332086.6875 - val_loss: 314887.4375 - val_root_mean_squared_error: 339085.4062 - 220ms/epoch - 9ms/step\n",
      "Epoch 43/100\n",
      "25/25 - 0s - loss: 307229.8125 - root_mean_squared_error: 332063.3750 - val_loss: 314861.9688 - val_root_mean_squared_error: 339062.1250 - 143ms/epoch - 6ms/step\n",
      "Epoch 44/100\n",
      "25/25 - 0s - loss: 307204.8438 - root_mean_squared_error: 332040.8750 - val_loss: 314837.1250 - val_root_mean_squared_error: 339039.8438 - 231ms/epoch - 9ms/step\n",
      "Epoch 45/100\n",
      "25/25 - 0s - loss: 307179.9062 - root_mean_squared_error: 332017.8125 - val_loss: 314812.2500 - val_root_mean_squared_error: 339016.6875 - 237ms/epoch - 9ms/step\n",
      "Epoch 46/100\n",
      "25/25 - 0s - loss: 307154.6250 - root_mean_squared_error: 331994.6875 - val_loss: 314787.3125 - val_root_mean_squared_error: 338993.8750 - 181ms/epoch - 7ms/step\n",
      "Epoch 47/100\n",
      "25/25 - 0s - loss: 307129.7500 - root_mean_squared_error: 331971.4375 - val_loss: 314762.4062 - val_root_mean_squared_error: 338969.9688 - 112ms/epoch - 4ms/step\n",
      "Epoch 48/100\n",
      "25/25 - 0s - loss: 307104.7812 - root_mean_squared_error: 331948.3125 - val_loss: 314736.9062 - val_root_mean_squared_error: 338946.9375 - 92ms/epoch - 4ms/step\n",
      "Epoch 49/100\n",
      "25/25 - 0s - loss: 307080.1250 - root_mean_squared_error: 331924.9062 - val_loss: 314711.6250 - val_root_mean_squared_error: 338921.9062 - 106ms/epoch - 4ms/step\n",
      "Epoch 50/100\n",
      "25/25 - 0s - loss: 307054.8125 - root_mean_squared_error: 331901.1562 - val_loss: 314687.3125 - val_root_mean_squared_error: 338899.9688 - 125ms/epoch - 5ms/step\n",
      "Epoch 51/100\n",
      "25/25 - 0s - loss: 307029.8125 - root_mean_squared_error: 331878.3438 - val_loss: 314662.6875 - val_root_mean_squared_error: 338876.8125 - 90ms/epoch - 4ms/step\n",
      "Epoch 52/100\n",
      "25/25 - 0s - loss: 307004.8125 - root_mean_squared_error: 331855.5625 - val_loss: 314637.0625 - val_root_mean_squared_error: 338853.7188 - 109ms/epoch - 4ms/step\n",
      "Epoch 53/100\n",
      "25/25 - 0s - loss: 306979.8125 - root_mean_squared_error: 331832.5000 - val_loss: 314612.5312 - val_root_mean_squared_error: 338830.9375 - 135ms/epoch - 5ms/step\n",
      "Epoch 54/100\n",
      "25/25 - 0s - loss: 306954.7500 - root_mean_squared_error: 331809.5312 - val_loss: 314587.8438 - val_root_mean_squared_error: 338808.4062 - 261ms/epoch - 10ms/step\n",
      "Epoch 55/100\n",
      "25/25 - 0s - loss: 306929.7812 - root_mean_squared_error: 331786.3438 - val_loss: 314562.1875 - val_root_mean_squared_error: 338784.3125 - 237ms/epoch - 9ms/step\n",
      "Epoch 56/100\n",
      "25/25 - 0s - loss: 306904.6562 - root_mean_squared_error: 331763.2188 - val_loss: 314537.1250 - val_root_mean_squared_error: 338761.1250 - 190ms/epoch - 8ms/step\n",
      "Epoch 57/100\n",
      "25/25 - 0s - loss: 306879.8125 - root_mean_squared_error: 331739.8750 - val_loss: 314511.7812 - val_root_mean_squared_error: 338737.2188 - 187ms/epoch - 7ms/step\n",
      "Epoch 58/100\n",
      "25/25 - 0s - loss: 306854.9688 - root_mean_squared_error: 331717.6875 - val_loss: 314488.3438 - val_root_mean_squared_error: 338716.7812 - 95ms/epoch - 4ms/step\n",
      "Epoch 59/100\n",
      "25/25 - 0s - loss: 306830.0000 - root_mean_squared_error: 331693.9688 - val_loss: 314462.2500 - val_root_mean_squared_error: 338690.6875 - 83ms/epoch - 3ms/step\n",
      "Epoch 60/100\n",
      "25/25 - 0s - loss: 306804.8438 - root_mean_squared_error: 331670.8438 - val_loss: 314437.0938 - val_root_mean_squared_error: 338668.3438 - 97ms/epoch - 4ms/step\n",
      "Epoch 61/100\n",
      "25/25 - 0s - loss: 306779.7500 - root_mean_squared_error: 331648.2188 - val_loss: 314412.2500 - val_root_mean_squared_error: 338645.8125 - 96ms/epoch - 4ms/step\n",
      "Epoch 62/100\n",
      "25/25 - 0s - loss: 306754.8750 - root_mean_squared_error: 331624.8750 - val_loss: 314387.7188 - val_root_mean_squared_error: 338622.5000 - 136ms/epoch - 5ms/step\n",
      "Epoch 63/100\n",
      "25/25 - 0s - loss: 306729.8438 - root_mean_squared_error: 331602.0625 - val_loss: 314362.6875 - val_root_mean_squared_error: 338599.7500 - 89ms/epoch - 4ms/step\n",
      "Epoch 64/100\n",
      "25/25 - 0s - loss: 306704.7500 - root_mean_squared_error: 331578.5938 - val_loss: 314337.5312 - val_root_mean_squared_error: 338575.8125 - 165ms/epoch - 7ms/step\n",
      "Epoch 65/100\n",
      "25/25 - 0s - loss: 306680.0312 - root_mean_squared_error: 331555.0625 - val_loss: 314312.6250 - val_root_mean_squared_error: 338552.4375 - 205ms/epoch - 8ms/step\n",
      "Epoch 66/100\n",
      "25/25 - 0s - loss: 306654.8438 - root_mean_squared_error: 331532.1562 - val_loss: 314287.5312 - val_root_mean_squared_error: 338529.6250 - 205ms/epoch - 8ms/step\n",
      "Epoch 67/100\n",
      "25/25 - 0s - loss: 306629.7500 - root_mean_squared_error: 331509.1562 - val_loss: 314262.7188 - val_root_mean_squared_error: 338506.2188 - 164ms/epoch - 7ms/step\n",
      "Epoch 68/100\n",
      "25/25 - 0s - loss: 306604.8125 - root_mean_squared_error: 331485.7812 - val_loss: 314237.2500 - val_root_mean_squared_error: 338482.7812 - 156ms/epoch - 6ms/step\n",
      "Epoch 69/100\n",
      "25/25 - 0s - loss: 306579.6875 - root_mean_squared_error: 331462.8750 - val_loss: 314212.3125 - val_root_mean_squared_error: 338460.0000 - 88ms/epoch - 4ms/step\n",
      "Epoch 70/100\n",
      "25/25 - 0s - loss: 306554.8750 - root_mean_squared_error: 331439.6875 - val_loss: 314187.1250 - val_root_mean_squared_error: 338436.4688 - 127ms/epoch - 5ms/step\n",
      "Epoch 71/100\n",
      "25/25 - 0s - loss: 306529.7188 - root_mean_squared_error: 331416.3750 - val_loss: 314162.0312 - val_root_mean_squared_error: 338412.4062 - 115ms/epoch - 5ms/step\n",
      "Epoch 72/100\n",
      "25/25 - 0s - loss: 306504.8125 - root_mean_squared_error: 331393.1250 - val_loss: 314137.0000 - val_root_mean_squared_error: 338389.6250 - 86ms/epoch - 3ms/step\n",
      "Epoch 73/100\n",
      "25/25 - 0s - loss: 306479.7500 - root_mean_squared_error: 331369.8438 - val_loss: 314112.7500 - val_root_mean_squared_error: 338366.6875 - 87ms/epoch - 3ms/step\n",
      "Epoch 74/100\n",
      "25/25 - 0s - loss: 306454.7500 - root_mean_squared_error: 331346.4062 - val_loss: 314087.5938 - val_root_mean_squared_error: 338343.1250 - 147ms/epoch - 6ms/step\n",
      "Epoch 75/100\n",
      "25/25 - 0s - loss: 306429.7188 - root_mean_squared_error: 331323.5312 - val_loss: 314062.0312 - val_root_mean_squared_error: 338319.6250 - 186ms/epoch - 7ms/step\n",
      "Epoch 76/100\n",
      "25/25 - 0s - loss: 306404.8438 - root_mean_squared_error: 331301.0312 - val_loss: 314036.9375 - val_root_mean_squared_error: 338296.9062 - 201ms/epoch - 8ms/step\n",
      "Epoch 77/100\n",
      "25/25 - 0s - loss: 306379.9062 - root_mean_squared_error: 331278.0000 - val_loss: 314012.3750 - val_root_mean_squared_error: 338273.2500 - 157ms/epoch - 6ms/step\n",
      "Epoch 78/100\n",
      "25/25 - 0s - loss: 306354.8125 - root_mean_squared_error: 331254.5000 - val_loss: 313986.9062 - val_root_mean_squared_error: 338250.5938 - 123ms/epoch - 5ms/step\n",
      "Epoch 79/100\n",
      "25/25 - 0s - loss: 306329.9062 - root_mean_squared_error: 331231.7500 - val_loss: 313962.9688 - val_root_mean_squared_error: 338228.6250 - 125ms/epoch - 5ms/step\n",
      "Epoch 80/100\n",
      "25/25 - 0s - loss: 306304.8125 - root_mean_squared_error: 331208.3750 - val_loss: 313937.3438 - val_root_mean_squared_error: 338204.4062 - 116ms/epoch - 5ms/step\n",
      "Epoch 81/100\n",
      "25/25 - 0s - loss: 306279.6875 - root_mean_squared_error: 331185.3438 - val_loss: 313912.2188 - val_root_mean_squared_error: 338181.2812 - 85ms/epoch - 3ms/step\n",
      "Epoch 82/100\n",
      "25/25 - 0s - loss: 306254.7812 - root_mean_squared_error: 331162.1250 - val_loss: 313887.4062 - val_root_mean_squared_error: 338157.5312 - 88ms/epoch - 4ms/step\n",
      "Epoch 83/100\n",
      "25/25 - 0s - loss: 306229.8125 - root_mean_squared_error: 331138.6562 - val_loss: 313862.2500 - val_root_mean_squared_error: 338134.0312 - 84ms/epoch - 3ms/step\n",
      "Epoch 84/100\n",
      "25/25 - 0s - loss: 306204.8125 - root_mean_squared_error: 331115.1875 - val_loss: 313837.1250 - val_root_mean_squared_error: 338110.4688 - 106ms/epoch - 4ms/step\n",
      "Epoch 85/100\n",
      "25/25 - 0s - loss: 306179.8125 - root_mean_squared_error: 331092.5312 - val_loss: 313812.5312 - val_root_mean_squared_error: 338088.8438 - 160ms/epoch - 6ms/step\n",
      "Epoch 86/100\n",
      "25/25 - 0s - loss: 306155.1250 - root_mean_squared_error: 331070.4062 - val_loss: 313787.5000 - val_root_mean_squared_error: 338065.4688 - 137ms/epoch - 5ms/step\n",
      "Epoch 87/100\n",
      "25/25 - 0s - loss: 306129.7188 - root_mean_squared_error: 331046.4688 - val_loss: 313762.5625 - val_root_mean_squared_error: 338042.0625 - 160ms/epoch - 6ms/step\n",
      "Epoch 88/100\n",
      "25/25 - 0s - loss: 306104.7812 - root_mean_squared_error: 331023.2812 - val_loss: 313737.3438 - val_root_mean_squared_error: 338018.5938 - 136ms/epoch - 5ms/step\n",
      "Epoch 89/100\n",
      "25/25 - 0s - loss: 306080.0625 - root_mean_squared_error: 331000.3125 - val_loss: 313712.2188 - val_root_mean_squared_error: 337995.0625 - 174ms/epoch - 7ms/step\n",
      "Epoch 90/100\n",
      "25/25 - 0s - loss: 306054.7188 - root_mean_squared_error: 330976.7188 - val_loss: 313687.5312 - val_root_mean_squared_error: 337971.7812 - 115ms/epoch - 5ms/step\n",
      "Epoch 91/100\n",
      "25/25 - 0s - loss: 306029.9062 - root_mean_squared_error: 330953.4688 - val_loss: 313662.7812 - val_root_mean_squared_error: 337948.8750 - 89ms/epoch - 4ms/step\n",
      "Epoch 92/100\n",
      "25/25 - 0s - loss: 306004.7188 - root_mean_squared_error: 330930.3438 - val_loss: 313637.0938 - val_root_mean_squared_error: 337925.5625 - 84ms/epoch - 3ms/step\n",
      "Epoch 93/100\n",
      "25/25 - 0s - loss: 305979.8750 - root_mean_squared_error: 330908.0625 - val_loss: 313612.5312 - val_root_mean_squared_error: 337902.7188 - 97ms/epoch - 4ms/step\n",
      "Epoch 94/100\n",
      "25/25 - 0s - loss: 305954.8125 - root_mean_squared_error: 330884.7500 - val_loss: 313587.7812 - val_root_mean_squared_error: 337879.8750 - 122ms/epoch - 5ms/step\n",
      "Epoch 95/100\n",
      "25/25 - 0s - loss: 305929.7812 - root_mean_squared_error: 330861.0938 - val_loss: 313562.9062 - val_root_mean_squared_error: 337856.0000 - 120ms/epoch - 5ms/step\n",
      "Epoch 96/100\n",
      "25/25 - 0s - loss: 305904.7812 - root_mean_squared_error: 330837.5938 - val_loss: 313536.9688 - val_root_mean_squared_error: 337831.9375 - 125ms/epoch - 5ms/step\n",
      "Epoch 97/100\n",
      "25/25 - 0s - loss: 305879.8750 - root_mean_squared_error: 330814.9375 - val_loss: 313512.3750 - val_root_mean_squared_error: 337809.3750 - 123ms/epoch - 5ms/step\n",
      "Epoch 98/100\n",
      "25/25 - 0s - loss: 305854.9062 - root_mean_squared_error: 330792.7500 - val_loss: 313487.3750 - val_root_mean_squared_error: 337787.1562 - 121ms/epoch - 5ms/step\n",
      "Epoch 99/100\n",
      "25/25 - 0s - loss: 305829.8125 - root_mean_squared_error: 330769.5000 - val_loss: 313462.9375 - val_root_mean_squared_error: 337763.9688 - 124ms/epoch - 5ms/step\n",
      "Epoch 100/100\n",
      "25/25 - 0s - loss: 305804.7812 - root_mean_squared_error: 330745.8438 - val_loss: 313437.3438 - val_root_mean_squared_error: 337740.2500 - 126ms/epoch - 5ms/step\n"
     ]
    }
   ],
   "source": [
    "history = model.fit(X_train,y_train,validation_data=(X_val,y_val),epochs = 100,verbose = 2)\n",
    "#epochs = no of times weights is updated"
   ]
  },
  {
   "cell_type": "code",
   "execution_count": 217,
   "metadata": {},
   "outputs": [
    {
     "data": {
      "text/plain": [
       "['loss', 'root_mean_squared_error', 'val_loss', 'val_root_mean_squared_error']"
      ]
     },
     "execution_count": 217,
     "metadata": {},
     "output_type": "execute_result"
    }
   ],
   "source": [
    "ls = list(history.history.keys())\n",
    "ls"
   ]
  },
  {
   "cell_type": "code",
   "execution_count": 218,
   "metadata": {},
   "outputs": [
    {
     "data": {
      "image/png": "[encoded data removed]",
      "text/plain": [
       "<Figure size 640x480 with 1 Axes>"
      ]
     },
     "metadata": {},
     "output_type": "display_data"
    }
   ],
   "source": [
    "for i in ls:\n",
    "    plt.plot(history.history[i])\n",
    "plt.title('Model loss')\n",
    "plt.ylabel('loss')\n",
    "plt.xlabel('epoch')\n",
    "plt.legend(ls)\n",
    "plt.show()"
   ]
  },
  {
   "cell_type": "markdown",
   "metadata": {},
   "source": [
    "### Performance Measurement"
   ]
  },
  {
   "cell_type": "code",
   "execution_count": 219,
   "metadata": {},
   "outputs": [
    {
     "name": "stdout",
     "output_type": "stream",
     "text": [
      "4/4 [==============================] - 0s 5ms/step - loss: 313437.3438 - root_mean_squared_error: 337740.2500\n",
      "[313437.34375, 337740.25]\n",
      "100\n"
     ]
    }
   ],
   "source": [
    "print(model.evaluate(X_val,y_val))\n",
    "print(len(X_test))"
   ]
  },
  {
   "cell_type": "code",
   "execution_count": 220,
   "metadata": {},
   "outputs": [
    {
     "name": "stdout",
     "output_type": "stream",
     "text": [
      "4/4 [==============================] - 0s 4ms/step - loss: 300434.3438 - root_mean_squared_error: 325760.7812\n"
     ]
    },
    {
     "data": {
      "text/plain": [
       "[300434.34375, 325760.78125]"
      ]
     },
     "execution_count": 220,
     "metadata": {},
     "output_type": "execute_result"
    }
   ],
   "source": [
    "#validaion set and test set\n",
    "model.evaluate(X_test,y_test)"
   ]
  },
  {
   "cell_type": "code",
   "execution_count": 221,
   "metadata": {},
   "outputs": [
    {
     "data": {
      "text/plain": [
       "TensorShape([100, 8])"
      ]
     },
     "execution_count": 221,
     "metadata": {},
     "output_type": "execute_result"
    }
   ],
   "source": [
    "X_test.shape"
   ]
  },
  {
   "cell_type": "code",
   "execution_count": 222,
   "metadata": {},
   "outputs": [
    {
     "name": "stdout",
     "output_type": "stream",
     "text": [
      "4/4 [==============================] - 0s 2ms/step\n"
     ]
    }
   ],
   "source": [
    "y_pred = model.predict(X_test)"
   ]
  },
  {
   "cell_type": "code",
   "execution_count": 223,
   "metadata": {},
   "outputs": [
    {
     "name": "stdout",
     "output_type": "stream",
     "text": [
      "1/1 [==============================] - 0s 45ms/step\n"
     ]
    },
    {
     "data": {
      "text/plain": [
       "array([[2503.0046]], dtype=float32)"
      ]
     },
     "execution_count": 223,
     "metadata": {},
     "output_type": "execute_result"
    }
   ],
   "source": [
    "model.predict(tf.expand_dims(X_test[0],axis = 0))"
   ]
  },
  {
   "cell_type": "code",
   "execution_count": 224,
   "metadata": {},
   "outputs": [
    {
     "data": {
      "text/plain": [
       "<tf.Tensor: shape=(1,), dtype=float32, numpy=array([272075.], dtype=float32)>"
      ]
     },
     "execution_count": 224,
     "metadata": {},
     "output_type": "execute_result"
    }
   ],
   "source": [
    "y_test[0]"
   ]
  },
  {
   "cell_type": "markdown",
   "metadata": {},
   "source": [
    "### Underfitted model so very huge loss we use nn for this"
   ]
  }
 ],
 "metadata": {
  "kernelspec": {
   "display_name": "Python 3",
   "language": "python",
   "name": "python3"
  },
  "language_info": {
   "codemirror_mode": {
    "name": "ipython",
    "version": 3
   },
   "file_extension": ".py",
   "mimetype": "text/x-python",
   "name": "python",
   "nbconvert_exporter": "python",
   "pygments_lexer": "ipython3",
   "version": "3.10.12"
  },
  "orig_nbformat": 4
 },
 "nbformat": 4,
 "nbformat_minor": 2
}
