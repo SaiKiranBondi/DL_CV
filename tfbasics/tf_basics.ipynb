{
 "cells": [
  {
   "cell_type": "code",
   "execution_count": 1,
   "metadata": {},
   "outputs": [
    {
     "name": "stderr",
     "output_type": "stream",
     "text": [
      "2023-09-08 22:18:09.026560: I tensorflow/tsl/cuda/cudart_stub.cc:28] Could not find cuda drivers on your machine, GPU will not be used.\n",
      "2023-09-08 22:18:09.235242: I tensorflow/tsl/cuda/cudart_stub.cc:28] Could not find cuda drivers on your machine, GPU will not be used.\n",
      "2023-09-08 22:18:09.236718: I tensorflow/core/platform/cpu_feature_guard.cc:182] This TensorFlow binary is optimized to use available CPU instructions in performance-critical operations.\n",
      "To enable the following instructions: AVX2 FMA, in other operations, rebuild TensorFlow with the appropriate compiler flags.\n",
      "2023-09-08 22:18:11.012447: W tensorflow/compiler/tf2tensorrt/utils/py_utils.cc:38] TF-TRT Warning: Could not find TensorRT\n"
     ]
    }
   ],
   "source": [
    "import tensorflow as tf\n",
    "import numpy as np"
   ]
  },
  {
   "cell_type": "code",
   "execution_count": 2,
   "metadata": {},
   "outputs": [
    {
     "name": "stdout",
     "output_type": "stream",
     "text": [
      "tf.Tensor(\n",
      "[[0.09164894 0.95672214]\n",
      " [0.02972937 0.7234143 ]], shape=(2, 2), dtype=float32)\n",
      "tf.Tensor(\n",
      "[[0.30528796 0.72403336]\n",
      " [0.8724446  0.25781178]], shape=(2, 2), dtype=float32)\n",
      "tf.Tensor(\n",
      "[[0.92122746 0.8122997 ]\n",
      " [0.95292866 0.888075  ]], shape=(2, 2), dtype=float32)\n",
      "tf.Tensor(\n",
      "[[0.2430352  0.60351646]\n",
      " [0.00696754 0.38306487]], shape=(2, 2), dtype=float32)\n"
     ]
    }
   ],
   "source": [
    "tf.random.set_seed(5)\n",
    "#creates a reproducible sequence of tensors across multiple calls\n",
    "print(tf.random.uniform(\n",
    "    [2,2],\n",
    "    minval = 0,\n",
    "    maxval= None,\n",
    "    dtype=tf.float32,\n",
    "    seed=10,\n",
    "    name=None\n",
    "))\n",
    "print(tf.random.uniform(\n",
    "    [2,2],\n",
    "    minval = 0,\n",
    "    maxval= None,\n",
    "    dtype=tf.float32,\n",
    "    seed=10,\n",
    "    name=None\n",
    "))\n",
    "print(tf.random.uniform(\n",
    "    [2,2],\n",
    "    minval = 0,\n",
    "    maxval= None,\n",
    "    dtype=tf.float32,\n",
    "    seed=10,\n",
    "    name=None\n",
    "))\n",
    "print(tf.random.uniform(\n",
    "    [2,2],\n",
    "    minval = 0,\n",
    "    maxval= None,\n",
    "    dtype=tf.float32,\n",
    "    seed=10,\n",
    "    name=None\n",
    "))"
   ]
  },
  {
   "cell_type": "code",
   "execution_count": 3,
   "metadata": {},
   "outputs": [
    {
     "name": "stdout",
     "output_type": "stream",
     "text": [
      "tf.Tensor(\n",
      "[[0.09164894 0.95672214]\n",
      " [0.02972937 0.7234143 ]], shape=(2, 2), dtype=float32)\n",
      "tf.Tensor(\n",
      "[[0.30528796 0.72403336]\n",
      " [0.8724446  0.25781178]], shape=(2, 2), dtype=float32)\n",
      "tf.Tensor(\n",
      "[[0.92122746 0.8122997 ]\n",
      " [0.95292866 0.888075  ]], shape=(2, 2), dtype=float32)\n",
      "tf.Tensor(\n",
      "[[0.2430352  0.60351646]\n",
      " [0.00696754 0.38306487]], shape=(2, 2), dtype=float32)\n"
     ]
    }
   ],
   "source": [
    "tf.random.set_seed(5)\n",
    "#creates a reproducible sequence of tensors across multiple calls\n",
    "print(tf.random.uniform(\n",
    "    [2,2],\n",
    "    minval = 0,\n",
    "    maxval= None,\n",
    "    dtype=tf.float32,\n",
    "    seed=10,\n",
    "    name=None\n",
    "))\n",
    "print(tf.random.uniform(\n",
    "    [2,2],\n",
    "    minval = 0,\n",
    "    maxval= None,\n",
    "    dtype=tf.float32,\n",
    "    seed=10,\n",
    "    name=None\n",
    "))\n",
    "print(tf.random.uniform(\n",
    "    [2,2],\n",
    "    minval = 0,\n",
    "    maxval= None,\n",
    "    dtype=tf.float32,\n",
    "    seed=10,\n",
    "    name=None\n",
    "))\n",
    "print(tf.random.uniform(\n",
    "    [2,2],\n",
    "    minval = 0,\n",
    "    maxval= None,\n",
    "    dtype=tf.float32,\n",
    "    seed=10,\n",
    "    name=None\n",
    "))"
   ]
  },
  {
   "cell_type": "code",
   "execution_count": 4,
   "metadata": {},
   "outputs": [
    {
     "name": "stdout",
     "output_type": "stream",
     "text": [
      "tf.Tensor(4, shape=(), dtype=int32)\n"
     ]
    }
   ],
   "source": [
    "tensor_zero_d = tf.constant(4)\n",
    "print(tensor_zero_d)"
   ]
  },
  {
   "cell_type": "code",
   "execution_count": 5,
   "metadata": {},
   "outputs": [
    {
     "name": "stdout",
     "output_type": "stream",
     "text": [
      "tf.Tensor([2 3 4], shape=(3,), dtype=int32)\n"
     ]
    }
   ],
   "source": [
    "tensor_one_d = tf.constant([2,3,4])\n",
    "print(tensor_one_d)"
   ]
  },
  {
   "cell_type": "code",
   "execution_count": 6,
   "metadata": {},
   "outputs": [
    {
     "name": "stdout",
     "output_type": "stream",
     "text": [
      "tf.Tensor(\n",
      "[[2 3 4 5]\n",
      " [2 3 2 1]\n",
      " [9 8 0 1]], shape=(3, 4), dtype=int32)\n"
     ]
    }
   ],
   "source": [
    "tensor_two_d = tf.constant([[2,3,4,5],[2,3,2,1],[9,8,0,1]])\n",
    "print(tensor_two_d)"
   ]
  },
  {
   "cell_type": "code",
   "execution_count": 7,
   "metadata": {},
   "outputs": [
    {
     "name": "stdout",
     "output_type": "stream",
     "text": [
      "tf.Tensor(\n",
      "[[[2 3 4]\n",
      "  [2 3 2]\n",
      "  [9 8 0]]\n",
      "\n",
      " [[2 3 4]\n",
      "  [2 3 2]\n",
      "  [9 8 0]]], shape=(2, 3, 3), dtype=int32)\n"
     ]
    }
   ],
   "source": [
    "tensor_three_d = tf.constant([[[2,3,4],[2,3,2],[9,8,0]],[[2,3,4],[2,3,2],[9,8,0]]])\n",
    "print(tensor_three_d)"
   ]
  },
  {
   "cell_type": "code",
   "execution_count": 8,
   "metadata": {},
   "outputs": [
    {
     "name": "stdout",
     "output_type": "stream",
     "text": [
      "(2, 3, 3)\n",
      "3\n"
     ]
    }
   ],
   "source": [
    "print(tensor_three_d.shape)\n",
    "print(tensor_three_d.ndim)"
   ]
  },
  {
   "cell_type": "code",
   "execution_count": 9,
   "metadata": {},
   "outputs": [
    {
     "name": "stdout",
     "output_type": "stream",
     "text": [
      "tf.Tensor([2.  3.  4.2], shape=(3,), dtype=float32)\n",
      "tf.Tensor([2 3 4], shape=(3,), dtype=int32)\n"
     ]
    }
   ],
   "source": [
    "tensor_one_d = tf.constant([2,3,4.2],dtype=tf.float32)\n",
    "print(tensor_one_d)\n",
    "casted_tensor = tf.cast(tensor_one_d,dtype = tf.int32)\n",
    "print(casted_tensor)"
   ]
  },
  {
   "cell_type": "code",
   "execution_count": 10,
   "metadata": {},
   "outputs": [
    {
     "name": "stdout",
     "output_type": "stream",
     "text": [
      "[2 3 4]\n",
      "tf.Tensor([2 3 4], shape=(3,), dtype=int64)\n"
     ]
    }
   ],
   "source": [
    "np_array = np.array([2,3,4])\n",
    "print(np_array)\n",
    "converted = tf.convert_to_tensor(np_array)\n",
    "print(converted)"
   ]
  },
  {
   "cell_type": "code",
   "execution_count": 11,
   "metadata": {},
   "outputs": [
    {
     "name": "stdout",
     "output_type": "stream",
     "text": [
      "tf.Tensor(\n",
      "[[[[ True False False]\n",
      "   [False  True False]\n",
      "   [False False  True]]\n",
      "\n",
      "  [[ True False False]\n",
      "   [False  True False]\n",
      "   [False False  True]]]\n",
      "\n",
      "\n",
      " [[[ True False False]\n",
      "   [False  True False]\n",
      "   [False False  True]]\n",
      "\n",
      "  [[ True False False]\n",
      "   [False  True False]\n",
      "   [False False  True]]]], shape=(2, 2, 3, 3), dtype=bool)\n"
     ]
    }
   ],
   "source": [
    "#Diagonal Matrix creation\n",
    "eye_tensor = tf.eye(\n",
    "    num_rows=3,num_columns=None,batch_shape = [2,2],dtype=tf.dtypes.bool,name=None\n",
    ")\n",
    "print(eye_tensor)"
   ]
  },
  {
   "cell_type": "code",
   "execution_count": 12,
   "metadata": {},
   "outputs": [
    {
     "data": {
      "text/plain": [
       "<tf.Tensor: shape=(3, 3), dtype=int32, numpy=\n",
       "array([[1, 1, 1],\n",
       "       [1, 1, 1],\n",
       "       [1, 1, 1]], dtype=int32)>"
      ]
     },
     "execution_count": 12,
     "metadata": {},
     "output_type": "execute_result"
    }
   ],
   "source": [
    "tf.fill(\n",
    "    [3,3],1,name=None\n",
    ")"
   ]
  },
  {
   "cell_type": "code",
   "execution_count": 13,
   "metadata": {},
   "outputs": [
    {
     "data": {
      "text/plain": [
       "<tf.Tensor: shape=(3, 3), dtype=float32, numpy=\n",
       "array([[1., 1., 1.],\n",
       "       [1., 1., 1.],\n",
       "       [1., 1., 1.]], dtype=float32)>"
      ]
     },
     "execution_count": 13,
     "metadata": {},
     "output_type": "execute_result"
    }
   ],
   "source": [
    "tf.ones(\n",
    "    [3,3],dtype = tf.dtypes.float32,name  = None\n",
    ")"
   ]
  },
  {
   "cell_type": "code",
   "execution_count": 14,
   "metadata": {},
   "outputs": [
    {
     "data": {
      "text/plain": [
       "<tf.Tensor: shape=(3, 4), dtype=float32, numpy=\n",
       "array([[1., 1., 1., 1.],\n",
       "       [1., 1., 1., 1.],\n",
       "       [1., 1., 1., 1.]], dtype=float32)>"
      ]
     },
     "execution_count": 14,
     "metadata": {},
     "output_type": "execute_result"
    }
   ],
   "source": [
    "tf.ones_like(tensor_two_d,dtype = tf.float32)"
   ]
  },
  {
   "cell_type": "code",
   "execution_count": 15,
   "metadata": {},
   "outputs": [
    {
     "data": {
      "text/plain": [
       "<tf.Tensor: shape=(3, 3), dtype=float32, numpy=\n",
       "array([[0., 0., 0.],\n",
       "       [0., 0., 0.],\n",
       "       [0., 0., 0.]], dtype=float32)>"
      ]
     },
     "execution_count": 15,
     "metadata": {},
     "output_type": "execute_result"
    }
   ],
   "source": [
    "tf.zeros(\n",
    "    [3,3],dtype = tf.dtypes.float32,name  = None\n",
    ")"
   ]
  },
  {
   "cell_type": "code",
   "execution_count": 16,
   "metadata": {},
   "outputs": [
    {
     "data": {
      "text/plain": [
       "<tf.Tensor: shape=(3, 4), dtype=float32, numpy=\n",
       "array([[0., 0., 0., 0.],\n",
       "       [0., 0., 0., 0.],\n",
       "       [0., 0., 0., 0.]], dtype=float32)>"
      ]
     },
     "execution_count": 16,
     "metadata": {},
     "output_type": "execute_result"
    }
   ],
   "source": [
    "tf.zeros_like(tensor_two_d,dtype = tf.float32)"
   ]
  },
  {
   "cell_type": "code",
   "execution_count": 17,
   "metadata": {},
   "outputs": [
    {
     "data": {
      "text/plain": [
       "<tf.Tensor: shape=(), dtype=int32, numpy=2>"
      ]
     },
     "execution_count": 17,
     "metadata": {},
     "output_type": "execute_result"
    }
   ],
   "source": [
    "tf.rank(tensor_two_d)"
   ]
  },
  {
   "cell_type": "code",
   "execution_count": 18,
   "metadata": {},
   "outputs": [
    {
     "data": {
      "text/plain": [
       "<tf.Tensor: shape=(), dtype=int32, numpy=12>"
      ]
     },
     "execution_count": 18,
     "metadata": {},
     "output_type": "execute_result"
    }
   ],
   "source": [
    "tf.size(tensor_two_d)"
   ]
  },
  {
   "cell_type": "code",
   "execution_count": 19,
   "metadata": {},
   "outputs": [
    {
     "data": {
      "text/plain": [
       "<tf.Tensor: shape=(2, 2), dtype=float32, numpy=\n",
       "array([[99.819695, 99.04971 ],\n",
       "       [99.96036 , 99.25746 ]], dtype=float32)>"
      ]
     },
     "execution_count": 19,
     "metadata": {},
     "output_type": "execute_result"
    }
   ],
   "source": [
    "tf.random.normal(\n",
    "    [2,2],\n",
    "    mean = 100.0,\n",
    "    stddev= 1.0,\n",
    "    dtype=tf.float32,\n",
    "    seed=None,\n",
    "    name=None\n",
    ")"
   ]
  },
  {
   "cell_type": "code",
   "execution_count": 20,
   "metadata": {},
   "outputs": [
    {
     "data": {
      "text/plain": [
       "<tf.Tensor: shape=(2, 2), dtype=float32, numpy=\n",
       "array([[0.7017075 , 0.04336786],\n",
       "       [0.5604572 , 0.12203383]], dtype=float32)>"
      ]
     },
     "execution_count": 20,
     "metadata": {},
     "output_type": "execute_result"
    }
   ],
   "source": [
    "tf.random.uniform(\n",
    "    [2,2],\n",
    "    minval = 0,\n",
    "    maxval= None,\n",
    "    dtype=tf.float32,\n",
    "    seed=None,\n",
    "    name=None\n",
    ")"
   ]
  },
  {
   "cell_type": "code",
   "execution_count": 21,
   "metadata": {},
   "outputs": [
    {
     "name": "stdout",
     "output_type": "stream",
     "text": [
      "tf.Tensor([3 5], shape=(2,), dtype=int32)\n"
     ]
    }
   ],
   "source": [
    "tf_indexed = tf.constant([2,3,4,5,6,2])\n",
    "print(tf_indexed[1:4:2])"
   ]
  },
  {
   "cell_type": "code",
   "execution_count": 22,
   "metadata": {},
   "outputs": [
    {
     "data": {
      "text/plain": [
       "<tf.Tensor: shape=(3, 4), dtype=int32, numpy=\n",
       "array([[2, 3, 4, 5],\n",
       "       [2, 3, 2, 1],\n",
       "       [9, 8, 0, 1]], dtype=int32)>"
      ]
     },
     "execution_count": 22,
     "metadata": {},
     "output_type": "execute_result"
    }
   ],
   "source": [
    "tensor_two_d"
   ]
  },
  {
   "cell_type": "code",
   "execution_count": 23,
   "metadata": {},
   "outputs": [
    {
     "name": "stdout",
     "output_type": "stream",
     "text": [
      "tf.Tensor(\n",
      "[[2 3 4 5]\n",
      " [2 3 2 1]], shape=(2, 4), dtype=int32)\n",
      "tf.Tensor([9 8 0 1], shape=(4,), dtype=int32)\n",
      "tf.Tensor(\n",
      "[[2 3 4 5]\n",
      " [2 3 2 1]], shape=(2, 4), dtype=int32)\n"
     ]
    }
   ],
   "source": [
    "print(tensor_two_d[0:2,:])\n",
    "print(tensor_two_d[2,:])\n",
    "print(tensor_two_d[0:2,...])\n",
    "#rows,cols\n",
    "#extend this for 3d a,b,c"
   ]
  },
  {
   "cell_type": "code",
   "execution_count": 24,
   "metadata": {},
   "outputs": [
    {
     "name": "stdout",
     "output_type": "stream",
     "text": [
      "tf.Tensor(\n",
      "[[2 3 4 5]\n",
      " [2 3 2 1]\n",
      " [9 8 0 1]], shape=(3, 4), dtype=int32)\n"
     ]
    }
   ],
   "source": [
    "print(tensor_two_d)"
   ]
  },
  {
   "cell_type": "code",
   "execution_count": 25,
   "metadata": {},
   "outputs": [
    {
     "name": "stdout",
     "output_type": "stream",
     "text": [
      "tf.Tensor([2 2], shape=(2,), dtype=int32)\n",
      "tf.Tensor([2 2 0 0], shape=(4,), dtype=int64)\n",
      "tf.Tensor([3 1 0], shape=(3,), dtype=int64)\n"
     ]
    }
   ],
   "source": [
    "#tf.math\n",
    "print(tf.abs([2,-2]))\n",
    "#print(tf.math.max(tensor_two_d))\n",
    "print(tf.math.argmax(tensor_two_d))\n",
    "print(tf.math.argmax(tensor_two_d,1))"
   ]
  },
  {
   "cell_type": "code",
   "execution_count": 26,
   "metadata": {},
   "outputs": [
    {
     "name": "stdout",
     "output_type": "stream",
     "text": [
      "tf.Tensor([2. 3. 4. 5. 6. 7.], shape=(6,), dtype=float32)\n"
     ]
    }
   ],
   "source": [
    "x1 = tf.constant([2,3,4,5,6,7],dtype=tf.float32)\n",
    "x2 = tf.constant([1],dtype=tf.float32)\n",
    "\n",
    "print(tf.math.multiply(x1,x2))\n",
    "#stretching occured here"
   ]
  },
  {
   "cell_type": "code",
   "execution_count": 27,
   "metadata": {},
   "outputs": [
    {
     "data": {
      "text/plain": [
       "<tf.Tensor: shape=(3, 4), dtype=int32, numpy=\n",
       "array([[2, 3, 4, 5],\n",
       "       [2, 3, 2, 1],\n",
       "       [9, 8, 0, 1]], dtype=int32)>"
      ]
     },
     "execution_count": 27,
     "metadata": {},
     "output_type": "execute_result"
    }
   ],
   "source": [
    "#argmax returns the index of maximum\n",
    "tensor_two_d"
   ]
  },
  {
   "cell_type": "code",
   "execution_count": 52,
   "metadata": {},
   "outputs": [
    {
     "name": "stdout",
     "output_type": "stream",
     "text": [
      "tf.Tensor([[40]], shape=(1, 1), dtype=int32)\n",
      "tf.Tensor([[9]], shape=(1, 1), dtype=int32)\n",
      "tf.Tensor(\n",
      "[[14]\n",
      " [ 8]\n",
      " [18]], shape=(3, 1), dtype=int32)\n",
      "tf.Tensor([[13 14  6  7]], shape=(1, 4), dtype=int32)\n"
     ]
    }
   ],
   "source": [
    "print(tf.math.reduce_sum(\n",
    "    tensor_two_d,\n",
    "    keepdims=True\n",
    "))\n",
    "print(tf.math.reduce_max(\n",
    "    tensor_two_d,\n",
    "    keepdims=True\n",
    "))\n",
    "print(tf.math.reduce_sum(\n",
    "    tensor_two_d,\n",
    "    axis = 1,\n",
    "    keepdims=True\n",
    "))\n",
    "print(tf.math.reduce_sum(\n",
    "    tensor_two_d,\n",
    "    axis = 0,\n",
    "    keepdims=True\n",
    "))\n",
    "#axis = 1 --> rows sum\n",
    "#axis = 0 --> cols sum\n",
    "#adds all elements of the tensor"
   ]
  },
  {
   "cell_type": "code",
   "execution_count": 29,
   "metadata": {},
   "outputs": [
    {
     "name": "stdout",
     "output_type": "stream",
     "text": [
      "TopKV2(values=<tf.Tensor: shape=(2,), dtype=float32, numpy=array([4.2, 3. ], dtype=float32)>, indices=<tf.Tensor: shape=(2,), dtype=int32, numpy=array([2, 1], dtype=int32)>)\n"
     ]
    }
   ],
   "source": [
    "print(tf.math.top_k( tensor_one_d,k=2))"
   ]
  },
  {
   "cell_type": "code",
   "execution_count": 30,
   "metadata": {},
   "outputs": [
    {
     "name": "stdout",
     "output_type": "stream",
     "text": [
      "tf.Tensor([2.  3.  4.2], shape=(3,), dtype=float32)\n"
     ]
    }
   ],
   "source": [
    "#Linear Algebra\n",
    "#matrix multiplication  ---> @\n",
    "print(tf.transpose(tensor_one_d))"
   ]
  },
  {
   "cell_type": "code",
   "execution_count": 31,
   "metadata": {},
   "outputs": [
    {
     "data": {
      "text/plain": [
       "<tf.Tensor: shape=(3, 3), dtype=int32, numpy=\n",
       "array([[ 54,  26,  47],\n",
       "       [ 26,  18,  43],\n",
       "       [ 47,  43, 146]], dtype=int32)>"
      ]
     },
     "execution_count": 31,
     "metadata": {},
     "output_type": "execute_result"
    }
   ],
   "source": [
    "tf.linalg.matmul(tensor_two_d,tensor_two_d,transpose_a=False,transpose_b=True,adjoint_a=False,adjoint_b=False,a_is_sparse=False,b_is_sparse=False,output_type=None,name=None)"
   ]
  },
  {
   "cell_type": "code",
   "execution_count": 49,
   "metadata": {},
   "outputs": [
    {
     "name": "stdout",
     "output_type": "stream",
     "text": [
      "tf.Tensor(\n",
      "[[ 1.  0.  0.]\n",
      " [-1.  1.  0.]\n",
      " [-2.  1.  2.]], shape=(3, 3), dtype=float32)\n"
     ]
    }
   ],
   "source": [
    "#matrix multiplication for higher dimensions\n",
    "#x1[0]*x2[0,:] -> Batch multiplication\n",
    "#sparse tensors(mostly zeroes) ->Faster computations\n",
    "mat = tf.constant([[1,2,3]\n",
    "                   ,[-1,1,2],\n",
    "                   [-2,1,2]],dtype = tf.float32)\n",
    "print(tf.linalg.band_part(mat,-1,0))\n",
    "#band[i,j,k....] = in_band(m,n)*input[i,j,k....]\n",
    "#in_band(m,n) = (num_lower<0 || (m-n)<=num_lower)&&(num_upper<0 || (n-m)<=num_upper)\n",
    "#band_part(0,-1) ---> Upper Triangular\n",
    "#band_part(-1,0) ---> Lower Triangular\n",
    "#band_part(0,0) ---> Diagonal"
   ]
  },
  {
   "cell_type": "code",
   "execution_count": 50,
   "metadata": {},
   "outputs": [
    {
     "name": "stdout",
     "output_type": "stream",
     "text": [
      "tf.Tensor([4.843616   2.3519523  0.08778124], shape=(3,), dtype=float32) tf.Tensor(\n",
      "[[-0.69566053  0.6916316   0.19417119]\n",
      " [-0.48963025 -0.25871757 -0.8326628 ]\n",
      " [-0.5256604  -0.6743227   0.5186232 ]], shape=(3, 3), dtype=float32) tf.Tensor(\n",
      "[[ 0.17451645  0.9774834  -0.11861754]\n",
      " [-0.49686253  0.19142523  0.8464536 ]\n",
      " [-0.8501009   0.08878343 -0.5190817 ]], shape=(3, 3), dtype=float32)\n"
     ]
    }
   ],
   "source": [
    "#tf.linalg.svd --> Eliminating useless information\n",
    "s,u,v = tf.linalg.svd(mat)\n",
    "print(s,u,v)"
   ]
  },
  {
   "cell_type": "code",
   "execution_count": null,
   "metadata": {},
   "outputs": [],
   "source": []
  }
 ],
 "metadata": {
  "kernelspec": {
   "display_name": "Python 3",
   "language": "python",
   "name": "python3"
  },
  "language_info": {
   "codemirror_mode": {
    "name": "ipython",
    "version": 3
   },
   "file_extension": ".py",
   "mimetype": "text/x-python",
   "name": "python",
   "nbconvert_exporter": "python",
   "pygments_lexer": "ipython3",
   "version": "3.10.12"
  },
  "orig_nbformat": 4
 },
 "nbformat": 4,
 "nbformat_minor": 2
}
