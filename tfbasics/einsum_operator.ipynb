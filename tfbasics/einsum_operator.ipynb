{
 "cells": [
  {
   "cell_type": "code",
   "execution_count": 2,
   "metadata": {},
   "outputs": [],
   "source": [
    "import numpy as np"
   ]
  },
  {
   "cell_type": "code",
   "execution_count": 7,
   "metadata": {},
   "outputs": [
    {
     "name": "stdout",
     "output_type": "stream",
     "text": [
      "Matmul : \n",
      "[[33 69 77 -6 27]\n",
      " [ 9 12  0 10 13]\n",
      " [21 51 60 -7 14]]\n",
      "Einsum : \n",
      "[[33 69 77 -6 27]\n",
      " [ 9 12  0 10 13]\n",
      " [21 51 60 -7 14]]\n",
      "[[ 4 36 25  4]\n",
      " [ 4  4  4  9]\n",
      " [ 1 25 16  0]]\n"
     ]
    }
   ],
   "source": [
    "A = np.array([[2,6,5,2],\n",
    "             [2,-2,2,3],\n",
    "             [1,5,4,0]])\n",
    "B = np.array([[2,9,0,3,0],\n",
    "             [3,6,8,-2,2],\n",
    "             [1,3,5,0,1],\n",
    "             [3,0,2,0,5]])\n",
    "print(\"Matmul : \")\n",
    "print(np.matmul(A,B))\n",
    "\n",
    "#einsum is like matmul\n",
    "print(\"Einsum : \")\n",
    "print(np.einsum(\"ij,jk -> ik\",A,B))\n",
    "print(np.einsum(\"ij,ij -> ij\",A,A))"
   ]
  },
  {
   "cell_type": "code",
   "execution_count": 8,
   "metadata": {},
   "outputs": [
    {
     "data": {
      "text/plain": [
       "array([[ 2,  2,  1],\n",
       "       [ 6, -2,  5],\n",
       "       [ 5,  2,  4],\n",
       "       [ 2,  3,  0]])"
      ]
     },
     "execution_count": 8,
     "metadata": {},
     "output_type": "execute_result"
    }
   ],
   "source": [
    "#Transpose\n",
    "np.einsum(\"ij->ji\",A)"
   ]
  },
  {
   "cell_type": "code",
   "execution_count": 10,
   "metadata": {},
   "outputs": [
    {
     "data": {
      "text/plain": [
       "array([[[33, 69, 77, -6, 27],\n",
       "        [ 9, 12,  0, 10, 13],\n",
       "        [21, 51, 60, -7, 14]],\n",
       "\n",
       "       [[33, 69, 77, -6, 27],\n",
       "        [ 9, 12,  0, 10, 13],\n",
       "        [21, 51, 60, -7, 14]]])"
      ]
     },
     "execution_count": 10,
     "metadata": {},
     "output_type": "execute_result"
    }
   ],
   "source": [
    "#Batch Multiplication\n",
    "A1 = np.array([[[2,6,5,2],\n",
    "             [2,-2,2,3],\n",
    "             [1,5,4,0]],\n",
    "             [[2,6,5,2],\n",
    "             [2,-2,2,3],\n",
    "             [1,5,4,0]]])\n",
    "B1 = np.array([[[2,9,0,3,0],\n",
    "             [3,6,8,-2,2],\n",
    "             [1,3,5,0,1],\n",
    "             [3,0,2,0,5]],\n",
    "             [[2,9,0,3,0],\n",
    "             [3,6,8,-2,2],\n",
    "             [1,3,5,0,1],\n",
    "             [3,0,2,0,5]]])\n",
    "np.einsum(\"bij,bjk -> bik\",A1,B1)"
   ]
  },
  {
   "cell_type": "code",
   "execution_count": 11,
   "metadata": {},
   "outputs": [
    {
     "data": {
      "text/plain": [
       "60"
      ]
     },
     "execution_count": 11,
     "metadata": {},
     "output_type": "execute_result"
    }
   ],
   "source": [
    "#Sum\n",
    "np.einsum(\"bij -> \",A1)"
   ]
  },
  {
   "cell_type": "code",
   "execution_count": 12,
   "metadata": {},
   "outputs": [
    {
     "data": {
      "text/plain": [
       "array([ 5,  9, 11,  5])"
      ]
     },
     "execution_count": 12,
     "metadata": {},
     "output_type": "execute_result"
    }
   ],
   "source": [
    "np.einsum(\"ij -> j\",A)"
   ]
  }
 ],
 "metadata": {
  "kernelspec": {
   "display_name": "Python 3",
   "language": "python",
   "name": "python3"
  },
  "language_info": {
   "codemirror_mode": {
    "name": "ipython",
    "version": 3
   },
   "file_extension": ".py",
   "mimetype": "text/x-python",
   "name": "python",
   "nbconvert_exporter": "python",
   "pygments_lexer": "ipython3",
   "version": "3.10.12"
  },
  "orig_nbformat": 4
 },
 "nbformat": 4,
 "nbformat_minor": 2
}
