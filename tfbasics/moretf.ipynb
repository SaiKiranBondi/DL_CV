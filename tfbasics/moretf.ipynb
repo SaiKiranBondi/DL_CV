{
 "cells": [
  {
   "cell_type": "code",
   "execution_count": 1,
   "metadata": {},
   "outputs": [
    {
     "name": "stderr",
     "output_type": "stream",
     "text": [
      "2023-09-09 10:08:25.604037: I tensorflow/tsl/cuda/cudart_stub.cc:28] Could not find cuda drivers on your machine, GPU will not be used.\n",
      "2023-09-09 10:08:25.839034: I tensorflow/tsl/cuda/cudart_stub.cc:28] Could not find cuda drivers on your machine, GPU will not be used.\n",
      "2023-09-09 10:08:25.840822: I tensorflow/core/platform/cpu_feature_guard.cc:182] This TensorFlow binary is optimized to use available CPU instructions in performance-critical operations.\n",
      "To enable the following instructions: AVX2 FMA, in other operations, rebuild TensorFlow with the appropriate compiler flags.\n",
      "2023-09-09 10:08:28.204977: W tensorflow/compiler/tf2tensorrt/utils/py_utils.cc:38] TF-TRT Warning: Could not find TensorRT\n"
     ]
    }
   ],
   "source": [
    "import tensorflow as tf\n",
    "#tensorflow API Documentation for more examples"
   ]
  },
  {
   "cell_type": "code",
   "execution_count": 2,
   "metadata": {},
   "outputs": [
    {
     "name": "stdout",
     "output_type": "stream",
     "text": [
      "tf.Tensor([1 2 3 4], shape=(4,), dtype=int32)\n",
      "tf.Tensor([[1 2 3 4]], shape=(1, 4), dtype=int32)\n",
      "tf.Tensor([1 2 3 4], shape=(4,), dtype=int32)\n"
     ]
    }
   ],
   "source": [
    "x = tf.constant([1,2,3,4])\n",
    "#expands dimension\n",
    "x1 = tf.expand_dims(x,axis = 0)\n",
    "#axis = -1\n",
    "#reduces dimension of val =1\n",
    "x2 = tf.squeeze(x1,axis = 0)\n",
    "print(x)\n",
    "print(x1)\n",
    "print(x2)"
   ]
  },
  {
   "cell_type": "code",
   "execution_count": 3,
   "metadata": {},
   "outputs": [
    {
     "name": "stdout",
     "output_type": "stream",
     "text": [
      "tf.Tensor(\n",
      "[[[1 2]\n",
      "  [3 4]]\n",
      "\n",
      " [[2 3]\n",
      "  [4 5]]], shape=(2, 2, 2), dtype=int32)\n",
      "tf.Tensor([1 2 3 4 2 3 4 5], shape=(8,), dtype=int32)\n",
      "tf.Tensor([1 2 3 4 2 3 4 5], shape=(8,), dtype=int32)\n"
     ]
    }
   ],
   "source": [
    "#reshape -> no of elements should match\n",
    "t = [[1,2,3,4],\n",
    "     [2,3,4,5]]\n",
    "print(tf.reshape(t,[2,2,2]))\n",
    "print(tf.reshape(t,[8,]))\n",
    "print(tf.reshape(t,[-1,]))"
   ]
  },
  {
   "cell_type": "code",
   "execution_count": 4,
   "metadata": {},
   "outputs": [
    {
     "name": "stdout",
     "output_type": "stream",
     "text": [
      "tf.Tensor(\n",
      "[[[1 2 3 4]\n",
      "  [2 3 4 5]]\n",
      "\n",
      " [[1 0 0 0]\n",
      "  [2 3 4 5]]], shape=(2, 2, 4), dtype=int32)\n",
      "tf.Tensor(\n",
      "[[[1 2 3 4]\n",
      "  [2 3 4 5]\n",
      "  [1 0 0 0]\n",
      "  [2 3 4 5]]], shape=(1, 4, 4), dtype=int32)\n",
      "tf.Tensor(\n",
      "[[[1 2 3 4 1 0 0 0]\n",
      "  [2 3 4 5 2 3 4 5]]], shape=(1, 2, 8), dtype=int32)\n",
      "(2, 2, 4)\n",
      "(1, 4, 4)\n",
      "(1, 2, 8)\n"
     ]
    }
   ],
   "source": [
    "#concat\n",
    "#axis = 0 along outer axis\n",
    "#axis = 1 along next inner axis and so on\n",
    "t1 = tf.constant([[[1,2,3,4],\n",
    "     [2,3,4,5]]])\n",
    "t2 = tf.constant([[[1,0,0,0],\n",
    "     [2,3,4,5]]])\n",
    "print(tf.concat([t1,t2],axis = 0))\n",
    "print(tf.concat([t1,t2],axis = 1))\n",
    "print(tf.concat([t1,t2],axis = 2))\n",
    "\n",
    "print(tf.concat([t1,t2],axis = 0).shape)\n",
    "print(tf.concat([t1,t2],axis = 1).shape)\n",
    "print(tf.concat([t1,t2],axis = 2).shape)"
   ]
  },
  {
   "cell_type": "code",
   "execution_count": 5,
   "metadata": {},
   "outputs": [
    {
     "name": "stdout",
     "output_type": "stream",
     "text": [
      "tf.Tensor(\n",
      "[[[[1 2 3 4]\n",
      "   [2 3 4 5]]]\n",
      "\n",
      "\n",
      " [[[1 0 0 0]\n",
      "   [2 3 4 5]]]], shape=(2, 1, 2, 4), dtype=int32)\n",
      "tf.Tensor(\n",
      "[[[[1 2 3 4]\n",
      "   [2 3 4 5]]\n",
      "\n",
      "  [[1 0 0 0]\n",
      "   [2 3 4 5]]]], shape=(1, 2, 2, 4), dtype=int32)\n",
      "tf.Tensor(\n",
      "[[[[1 2 3 4]\n",
      "   [1 0 0 0]]\n",
      "\n",
      "  [[2 3 4 5]\n",
      "   [2 3 4 5]]]], shape=(1, 2, 2, 4), dtype=int32)\n",
      "(2, 1, 2, 4)\n",
      "(1, 2, 2, 4)\n",
      "(1, 2, 2, 4)\n"
     ]
    }
   ],
   "source": [
    "#stack\n",
    "t11 = tf.constant([[[1,2,3,4],\n",
    "     [2,3,4,5]]])\n",
    "t21 = tf.constant([[[1,0,0,0],\n",
    "     [2,3,4,5]]])\n",
    "print(tf.stack([t11,t21],axis = 0))\n",
    "print(tf.stack([t11,t21],axis = 1))\n",
    "print(tf.stack([t11,t21],axis = 2))\n",
    "\n",
    "print(tf.stack([t11,t21],axis = 0).shape)\n",
    "print(tf.stack([t11,t21],axis = 1).shape)\n",
    "print(tf.stack([t11,t21],axis = 2).shape)"
   ]
  },
  {
   "cell_type": "code",
   "execution_count": 6,
   "metadata": {},
   "outputs": [
    {
     "name": "stdout",
     "output_type": "stream",
     "text": [
      "tf.Tensor(\n",
      "[[0 0 0 0 0 0 0 0]\n",
      " [0 0 1 2 3 4 0 0]\n",
      " [0 0 2 3 4 5 0 0]\n",
      " [0 0 0 0 0 0 0 0]], shape=(4, 8), dtype=int32)\n"
     ]
    }
   ],
   "source": [
    "#padding\n",
    "t13 = tf.constant([[1,2,3,4],\n",
    "     [2,3,4,5]])\n",
    "t23 = tf.constant([[1,0,0,0],\n",
    "     [2,3,4,5]])\n",
    "pad = [[1,1],\n",
    "       [2,2]]\n",
    "#pad [top,down]\n",
    "#    [left,right]\n",
    "print(tf.pad(t13,pad,\"CONSTANT\"))"
   ]
  },
  {
   "cell_type": "code",
   "execution_count": 7,
   "metadata": {},
   "outputs": [
    {
     "name": "stdout",
     "output_type": "stream",
     "text": [
      "tf.Tensor([b'p0' b'p3' b'p5'], shape=(3,), dtype=string)\n"
     ]
    }
   ],
   "source": [
    "#gather\n",
    "params = tf.constant(['p0','p1','p2','p3','p4','p5'])\n",
    "params[0:4]\n",
    "print(tf.gather(params,[0,3,5],axis = 0))"
   ]
  },
  {
   "cell_type": "code",
   "execution_count": 11,
   "metadata": {},
   "outputs": [
    {
     "name": "stdout",
     "output_type": "stream",
     "text": [
      "tf.Tensor(\n",
      "[[1 2 3 4]\n",
      " [2 3 4 5]], shape=(2, 4), dtype=int32)\n",
      "tf.Tensor(\n",
      "[[1 2]\n",
      " [2 3]], shape=(2, 2), dtype=int32)\n"
     ]
    }
   ],
   "source": [
    "print(tf.gather(t13,[0,1],axis = 0))\n",
    "print(tf.gather(t13,[0,1],axis = 1))"
   ]
  },
  {
   "cell_type": "code",
   "execution_count": 16,
   "metadata": {},
   "outputs": [
    {
     "name": "stdout",
     "output_type": "stream",
     "text": [
      "tf.Tensor([2], shape=(1,), dtype=int32)\n",
      "tf.Tensor([2], shape=(1,), dtype=int32)\n"
     ]
    }
   ],
   "source": [
    "indices = [[0,1],]\n",
    "indices1 = [[0,0,1],]\n",
    "print(tf.gather_nd(t13,indices))\n",
    "print(tf.gather_nd(t11,indices1))\n",
    "#batch_dims = 1 --> making it aware of batches"
   ]
  },
  {
   "cell_type": "code",
   "execution_count": 18,
   "metadata": {},
   "outputs": [
    {
     "name": "stdout",
     "output_type": "stream",
     "text": [
      "(3, None)\n"
     ]
    }
   ],
   "source": [
    "#we may have datas with unequal no of columns\n",
    "#Racgged tensors deal with them\n",
    "tensor_2d = [[1,2],\n",
    "             [3],\n",
    "             [1,2,3]]\n",
    "tensor_ragged = tf.ragged.constant(tensor_2d)\n",
    "print(tensor_ragged.shape)"
   ]
  },
  {
   "cell_type": "code",
   "execution_count": 19,
   "metadata": {},
   "outputs": [],
   "source": [
    "#tf.sparse.SparseTensor\n",
    "#working with tensors having mostly zeroes\n",
    "tf_sparse = tf.sparse.SparseTensor([[1,1],[3,3]],[1,5],[4,4])"
   ]
  },
  {
   "cell_type": "code",
   "execution_count": 20,
   "metadata": {},
   "outputs": [
    {
     "name": "stdout",
     "output_type": "stream",
     "text": [
      "tf.Tensor(\n",
      "[[0 0 0 0]\n",
      " [0 1 0 0]\n",
      " [0 0 0 0]\n",
      " [0 0 0 5]], shape=(4, 4), dtype=int32)\n"
     ]
    }
   ],
   "source": [
    "print(tf.sparse.to_dense(tf_sparse))"
   ]
  },
  {
   "cell_type": "code",
   "execution_count": 22,
   "metadata": {},
   "outputs": [
    {
     "name": "stdout",
     "output_type": "stream",
     "text": [
      "tf.Tensor([b'hello' b'i am' b'string'], shape=(3,), dtype=string)\n"
     ]
    }
   ],
   "source": [
    "#String tensors\n",
    "tensor_string = tf.constant([\"hello\",\"i am\",\"string\"])\n",
    "print(tensor_string)"
   ]
  },
  {
   "cell_type": "code",
   "execution_count": 36,
   "metadata": {},
   "outputs": [
    {
     "data": {
      "text/plain": [
       "<tf.Tensor: shape=(), dtype=string, numpy=b'hello i am string'>"
      ]
     },
     "execution_count": 36,
     "metadata": {},
     "output_type": "execute_result"
    }
   ],
   "source": [
    "tf.strings.join(tensor_string,separator = \" \")"
   ]
  },
  {
   "cell_type": "code",
   "execution_count": 37,
   "metadata": {},
   "outputs": [
    {
     "name": "stdout",
     "output_type": "stream",
     "text": [
      "<tf.Variable 'Variable:0' shape=(3,) dtype=string, numpy=array([b'hello', b'i am', b'string'], dtype=object)>\n"
     ]
    }
   ],
   "source": [
    "x_var = tf.Variable(tensor_string,trainable=True)\n",
    "#x_var[0] = \"Hi\"\n",
    "print(x_var)"
   ]
  },
  {
   "cell_type": "code",
   "execution_count": 39,
   "metadata": {},
   "outputs": [
    {
     "name": "stdout",
     "output_type": "stream",
     "text": [
      "/job:localhost/replica:0/task:0/device:CPU:0\n"
     ]
    }
   ],
   "source": [
    "#with tf.device('GPU:0'):\n",
    "#   write code here\n",
    "with tf.device('GPU:0'):\n",
    "    x_1 = tf.constant([1,3,4])\n",
    "\n",
    "print(x_1.device)"
   ]
  }
 ],
 "metadata": {
  "kernelspec": {
   "display_name": "Python 3 (ipykernel)",
   "language": "python",
   "name": "python3"
  },
  "language_info": {
   "codemirror_mode": {
    "name": "ipython",
    "version": 3
   },
   "file_extension": ".py",
   "mimetype": "text/x-python",
   "name": "python",
   "nbconvert_exporter": "python",
   "pygments_lexer": "ipython3",
   "version": "3.10.12"
  },
  "orig_nbformat": 4
 },
 "nbformat": 4,
 "nbformat_minor": 2
}
